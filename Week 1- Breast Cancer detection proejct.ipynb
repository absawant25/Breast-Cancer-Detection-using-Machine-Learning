{
 "cells": [
  {
   "cell_type": "markdown",
   "metadata": {},
   "source": [
    "## Week 1- Getting the basics right"
   ]
  },
  {
   "cell_type": "markdown",
   "metadata": {},
   "source": [
    "Welcome to this guided project. This is a part of AIML Community's Data Science for social good initiative wherein we are trying to make an impact using Data Science. Our first project is Breast Cancer prediction using Machine Learning. \n",
    "\n",
    "This notebook consists of material for week 1\n",
    "\n",
    "This week, we are going to familiarize ourselves with the basics we will need in the project. This is a jupyter notebook, coding in Python is preferred on a Jupyter notebook but you can use pycharm as well. \n",
    "\n",
    "#### What will you learn after completing week 1?\n",
    "1. A basic introduction to major Python libraries\n",
    "2. Learn basic commands associated with those libraries\n",
    "3. Run some code using a simple dataset before we move to a larger dataset for our project\n",
    "\n",
    "#### How to use this notebook?\n",
    "This notebook consists of both the text and the codes. We will be having questions in between which will require coding from you. The dataset for week 1 will be attached in the same folder by the name \"week 1 dataset\". Please download it. \n",
    "You can make a separate python notebook on Google Colab/Pycharm/Jupyter and send us or upload on github and send us the link. This is as a part of your evaluation which will be used to provide you the certificate. "
   ]
  },
  {
   "cell_type": "markdown",
   "metadata": {},
   "source": [
    "## Learning the basic libraries of Python "
   ]
  },
  {
   "cell_type": "markdown",
   "metadata": {},
   "source": [
    "### 1. Numpy"
   ]
  },
  {
   "cell_type": "markdown",
   "metadata": {},
   "source": [
    "We will not be using Numpy much in our Breast Cancer detection project but it is an important library. Pandas is made on Numpy and Pandas is a very essentail library for using, manipulating and analyzing data. \n",
    "\n",
    "NumPy is the fundamental package for scientific computing with Python. It contains among other things:\n",
    "\n",
    "1. a powerful N-dimensional array object\n",
    "\n",
    "2. sophisticated (broadcasting) functions\n",
    "\n",
    "3. tools for integrating C/C++ and Fortran code\n",
    "\n",
    "4. useful linear algebra, Fourier transform, and random number capabilities\n",
    "\n",
    "Besides its obvious scientific uses, NumPy can also be used as an efficient multi-dimensional container of generic data. Arbitrary data-types can be defined. This allows NumPy to seamlessly and speedily integrate with a wide variety of databases."
   ]
  },
  {
   "cell_type": "markdown",
   "metadata": {},
   "source": [
    "#### What is an array?\n",
    "\n",
    "Array data structure, or simply an array, is a data structure consisting of a collection of elements (values or variables), each identified by at least one array index or key.\n",
    "\n",
    "There are two things in an array, the rows(which are horizontal lines) and columns (which are vertical lines). We write them in the form (rows x columns). So if we see (4,5), it means it has 4 rows and 5 columns. \n",
    "\n",
    "We all have read matrix on our schools and colleges. Matrix generally implies two dimensions, arrays are usually one dimensional unless specified otherwise. A matrix has the size m*n (2d). An array has the size m (1d), so it is a special case.\n",
    "\n",
    "NumPy helps us to perform linear algebra operation swiftly on our machines. We will now proceed and learn how to use Numpy. \n",
    "\n",
    "First we will import NumPy module in our notebook."
   ]
  },
  {
   "cell_type": "code",
   "execution_count": 4,
   "metadata": {},
   "outputs": [],
   "source": [
    "import numpy as np #the reason we import is as np is to save time from writing \"numpy\" everytime we use it"
   ]
  },
  {
   "cell_type": "markdown",
   "metadata": {},
   "source": [
    "We will first learn how to create an array. There are different methods for creating an array:"
   ]
  },
  {
   "cell_type": "code",
   "execution_count": 5,
   "metadata": {},
   "outputs": [
    {
     "name": "stdout",
     "output_type": "stream",
     "text": "arr1:[[1. 2. 4.]\n [5. 8. 7.]]\narr2:[1 3 2]\narr3:[[0. 0. 0.]\n [0. 0. 0.]]\narr4:[ 0  2  4  6  8 10 12 14 16 18]\narr5[ 0.          0.52631579  1.05263158  1.57894737  2.10526316  2.63157895\n  3.15789474  3.68421053  4.21052632  4.73684211  5.26315789  5.78947368\n  6.31578947  6.84210526  7.36842105  7.89473684  8.42105263  8.94736842\n  9.47368421 10.        ]\narr6:[[ 0  1  2  3  4]\n [ 5  6  7  8  9]\n [10 11 12 13 14]]\n"
    }
   ],
   "source": [
    "# Creating array from list \n",
    "arr1 = np.array([[1, 2, 4], [5, 8, 7]], dtype = 'float') \n",
    "print(\"arr1:{}\".format(arr1)) \n",
    "  \n",
    "# Creating array from tuple \n",
    "arr2 = np.array((1 , 3, 2)) \n",
    "print(\"arr2:{}\".format(arr2))\n",
    "  \n",
    "# Creating a 2X3 array with all zeros \n",
    "arr3 = np.zeros((2, 3)) \n",
    "print (\"arr3:{}\".format(arr3)) \n",
    "  \n",
    "\n",
    "# Create a sequence of integers from 0 to 20 with steps of 2 \n",
    "arr4 = np.arange(0, 20, 2) \n",
    "print (\"arr4:{}\".format(arr4)) \n",
    "  \n",
    "# Create a sequence of 20 values in range 0 to 10 \n",
    "arr5 = np.linspace(0, 10, 20) \n",
    "print (\"arr5{}\".format(arr5)) \n",
    "\n",
    "#making an array of consecutive natural numbers\n",
    "arr6 = np.arange(15).reshape(3, 5)\n",
    "print(\"arr6:{}\".format(arr6))"
   ]
  },
  {
   "cell_type": "markdown",
   "metadata": {},
   "source": [
    "### Q1. Create an array having consecutive natural numbers of size 6x3 and print it. "
   ]
  },
  {
   "cell_type": "code",
   "execution_count": 6,
   "metadata": {},
   "outputs": [
    {
     "name": "stdout",
     "output_type": "stream",
     "text": "arr7:[[ 0  1  2]\n [ 3  4  5]\n [ 6  7  8]\n [ 9 10 11]\n [12 13 14]\n [15 16 17]]\n"
    }
   ],
   "source": [
    "#making an array of consecutive natural numbers\n",
    "arr7 = np.arange(18).reshape(6, 3)\n",
    "print(\"arr7:{}\".format(arr7))"
   ]
  },
  {
   "cell_type": "markdown",
   "metadata": {},
   "source": [
    "Since our project will not be using much numpy, we will not read about it further. You can read about more features in Numpy by visiting at: https://numpy.org/devdocs/user/quickstart.html"
   ]
  },
  {
   "cell_type": "markdown",
   "metadata": {},
   "source": [
    "## 2. Pandas "
   ]
  },
  {
   "cell_type": "markdown",
   "metadata": {},
   "source": [
    "Pandas is a Python package providing fast, flexible, and expressive data structures designed to make working with “relational” or “labeled” data both easy and intuitive. It aims to be the fundamental high-level building block for doing practical, real world data analysis in Python. Additionally, it has the broader goal of becoming the most powerful and flexible open source data analysis / manipulation tool available in any language. It is already well on its way toward this goal.\n",
    "\n",
    "Pandas is well suited for many different kinds of data:\n",
    "\n",
    "1. Tabular data with heterogeneously-typed columns, as in an SQL table or Excel spreadsheet\n",
    "\n",
    "2. Ordered and unordered (not necessarily fixed-frequency) time series data.\n",
    "\n",
    "3. Arbitrary matrix data (homogeneously typed or heterogeneous) with row and column labels\n",
    "\n",
    "4. Any other form of observational / statistical data sets. The data actually need not be labeled at all to be placed into a pandas data structure\n",
    "\n",
    "The two primary data structures of pandas, Series (1-dimensional) and DataFrame (2-dimensional), handle the vast majority of typical use cases in finance, statistics, social science, and many areas of engineering. Pandas is built on top of NumPy and is intended to integrate well within a scientific computing environment with many other 3rd party libraries."
   ]
  },
  {
   "cell_type": "markdown",
   "metadata": {},
   "source": [
    "### Why use Pandas?\n",
    "#### These are some of the things that Pandas does well:\n",
    "\n",
    "1. Easy handling of missing data (represented as NaN) in floating point as well as non-floating point data\n",
    "\n",
    "2. Size mutability: columns can be inserted and deleted from DataFrame and higher dimensional objects\n",
    "\n",
    "3. Automatic and explicit data alignment: objects can be explicitly aligned to a set of labels, or the user can simply ignore the labels and let Series, DataFrame, etc. automatically align the data for you in computations\n",
    "\n",
    "4. Powerful, flexible group by functionality to perform split-apply-combine operations on data sets, for both aggregating and transforming data\n",
    "\n",
    "5. Make it easy to convert ragged, differently-indexed data in other Python and NumPy data structures into DataFrame objects\n",
    "\n",
    "6. Intelligent label-based slicing, fancy indexing, and subsetting of large data sets\n",
    "\n",
    "7. Intuitive merging and joining data sets\n",
    "\n",
    "8. Flexible reshaping and pivoting of data sets\n",
    "\n",
    "9. Hierarchical labeling of axes (possible to have multiple labels per tick)\n",
    "\n",
    "10. Robust IO tools for loading data from flat files (CSV and delimited), Excel files, databases, and saving / loading data from the ultrafast HDF5 format\n",
    "\n",
    "11. Time series-specific functionality: date range generation and frequency conversion, moving window statistics, date shifting and lagging."
   ]
  },
  {
   "cell_type": "markdown",
   "metadata": {},
   "source": [
    "#### We have attached a data set named \"Week 1 dataset\". Please download that dataset, go to that file in folder, shift+right click and you will find an option \"copy as path\", click on the that and you will get the source of that file in your system and now we will use that to open our file in this notebook. \n",
    "\n",
    "## Objective of our dataset:\n",
    "We are trying to find out the factors affecting number of siblings. "
   ]
  },
  {
   "cell_type": "markdown",
   "metadata": {},
   "source": [
    "There are few formats in which dataset can be saved, the most famous ones are CSV (Comma separated values) and Excel file. \n",
    "We will create a DataFrame of our data. To open a csv file and excel file, use the codes given below:"
   ]
  },
  {
   "cell_type": "code",
   "execution_count": 7,
   "metadata": {},
   "outputs": [],
   "source": [
    "import pandas as pd\n",
    "#df=pd.read_csv()\n",
    "#df=pd.read_excel()"
   ]
  },
  {
   "cell_type": "markdown",
   "metadata": {},
   "source": [
    "Now, our file is in Excel format so we will use the second command:"
   ]
  },
  {
   "cell_type": "code",
   "execution_count": 8,
   "metadata": {},
   "outputs": [
    {
     "name": "stdout",
     "output_type": "stream",
     "text": "Name  Income per month          State  Age Sex  Number of siblings\n0    A                50     Tamil Nadu   23   M                   0\n1    B                34      Karnataka   37   F                   3\n2    C                54     Tamil Nadu   35   F                   1\n3    D                24  Uttar Pradesh   26   F                   4\n4    E                19          Bihar   59   M                   5\n5    F                21          Bihar   48   M                   6\n6    G                40          Delhi   30   F                   2\n7    H                20  Uttar Pradesh   72   M                  10\n8    I                30      Telangana   22   F                   0\n9    J                18    Chattisgarh   42   M                   7\n"
    }
   ],
   "source": [
    "df=pd.read_excel(r\"E:\\aiml\\Breast-Cancer-Detection-using-Machine-Learning\\Week 1 Dataset.xlsx\")\n",
    "print(df)"
   ]
  },
  {
   "cell_type": "markdown",
   "metadata": {},
   "source": [
    "This is a small dataset that we had created to make it easier to understand the basics. This is demographic and geographical information of 10 individuals. "
   ]
  },
  {
   "cell_type": "code",
   "execution_count": 11,
   "metadata": {},
   "outputs": [
    {
     "data": {
      "text/html": "<div>\n<style scoped>\n    .dataframe tbody tr th:only-of-type {\n        vertical-align: middle;\n    }\n\n    .dataframe tbody tr th {\n        vertical-align: top;\n    }\n\n    .dataframe thead th {\n        text-align: right;\n    }\n</style>\n<table border=\"1\" class=\"dataframe\">\n  <thead>\n    <tr style=\"text-align: right;\">\n      <th></th>\n      <th>Name</th>\n      <th>Income per month</th>\n      <th>State</th>\n      <th>Age</th>\n      <th>Sex</th>\n      <th>Number of siblings</th>\n    </tr>\n  </thead>\n  <tbody>\n    <tr>\n      <th>0</th>\n      <td>A</td>\n      <td>50</td>\n      <td>Tamil Nadu</td>\n      <td>23</td>\n      <td>M</td>\n      <td>0</td>\n    </tr>\n    <tr>\n      <th>1</th>\n      <td>B</td>\n      <td>34</td>\n      <td>Karnataka</td>\n      <td>37</td>\n      <td>F</td>\n      <td>3</td>\n    </tr>\n    <tr>\n      <th>2</th>\n      <td>C</td>\n      <td>54</td>\n      <td>Tamil Nadu</td>\n      <td>35</td>\n      <td>F</td>\n      <td>1</td>\n    </tr>\n    <tr>\n      <th>3</th>\n      <td>D</td>\n      <td>24</td>\n      <td>Uttar Pradesh</td>\n      <td>26</td>\n      <td>F</td>\n      <td>4</td>\n    </tr>\n    <tr>\n      <th>4</th>\n      <td>E</td>\n      <td>19</td>\n      <td>Bihar</td>\n      <td>59</td>\n      <td>M</td>\n      <td>5</td>\n    </tr>\n    <tr>\n      <th>5</th>\n      <td>F</td>\n      <td>21</td>\n      <td>Bihar</td>\n      <td>48</td>\n      <td>M</td>\n      <td>6</td>\n    </tr>\n    <tr>\n      <th>6</th>\n      <td>G</td>\n      <td>40</td>\n      <td>Delhi</td>\n      <td>30</td>\n      <td>F</td>\n      <td>2</td>\n    </tr>\n    <tr>\n      <th>7</th>\n      <td>H</td>\n      <td>20</td>\n      <td>Uttar Pradesh</td>\n      <td>72</td>\n      <td>M</td>\n      <td>10</td>\n    </tr>\n    <tr>\n      <th>8</th>\n      <td>I</td>\n      <td>30</td>\n      <td>Telangana</td>\n      <td>22</td>\n      <td>F</td>\n      <td>0</td>\n    </tr>\n    <tr>\n      <th>9</th>\n      <td>J</td>\n      <td>18</td>\n      <td>Chattisgarh</td>\n      <td>42</td>\n      <td>M</td>\n      <td>7</td>\n    </tr>\n  </tbody>\n</table>\n</div>",
      "text/plain": "  Name  Income per month          State  Age Sex  Number of siblings\n0    A                50     Tamil Nadu   23   M                   0\n1    B                34      Karnataka   37   F                   3\n2    C                54     Tamil Nadu   35   F                   1\n3    D                24  Uttar Pradesh   26   F                   4\n4    E                19          Bihar   59   M                   5\n5    F                21          Bihar   48   M                   6\n6    G                40          Delhi   30   F                   2\n7    H                20  Uttar Pradesh   72   M                  10\n8    I                30      Telangana   22   F                   0\n9    J                18    Chattisgarh   42   M                   7"
     },
     "execution_count": 11,
     "metadata": {},
     "output_type": "execute_result"
    }
   ],
   "source": [
    "df #using this command prints out the DataFrame"
   ]
  },
  {
   "cell_type": "code",
   "execution_count": 43,
   "metadata": {},
   "outputs": [
    {
     "data": {
      "text/html": [
       "<div>\n",
       "<style scoped>\n",
       "    .dataframe tbody tr th:only-of-type {\n",
       "        vertical-align: middle;\n",
       "    }\n",
       "\n",
       "    .dataframe tbody tr th {\n",
       "        vertical-align: top;\n",
       "    }\n",
       "\n",
       "    .dataframe thead th {\n",
       "        text-align: right;\n",
       "    }\n",
       "</style>\n",
       "<table border=\"1\" class=\"dataframe\">\n",
       "  <thead>\n",
       "    <tr style=\"text-align: right;\">\n",
       "      <th></th>\n",
       "      <th>0</th>\n",
       "      <th>1</th>\n",
       "      <th>2</th>\n",
       "      <th>3</th>\n",
       "      <th>4</th>\n",
       "      <th>5</th>\n",
       "      <th>6</th>\n",
       "      <th>7</th>\n",
       "      <th>8</th>\n",
       "      <th>9</th>\n",
       "    </tr>\n",
       "  </thead>\n",
       "  <tbody>\n",
       "    <tr>\n",
       "      <td>Name</td>\n",
       "      <td>A</td>\n",
       "      <td>B</td>\n",
       "      <td>C</td>\n",
       "      <td>D</td>\n",
       "      <td>E</td>\n",
       "      <td>F</td>\n",
       "      <td>G</td>\n",
       "      <td>H</td>\n",
       "      <td>I</td>\n",
       "      <td>J</td>\n",
       "    </tr>\n",
       "    <tr>\n",
       "      <td>Income per month</td>\n",
       "      <td>50</td>\n",
       "      <td>34</td>\n",
       "      <td>54</td>\n",
       "      <td>24</td>\n",
       "      <td>19</td>\n",
       "      <td>21</td>\n",
       "      <td>40</td>\n",
       "      <td>20</td>\n",
       "      <td>30</td>\n",
       "      <td>18</td>\n",
       "    </tr>\n",
       "    <tr>\n",
       "      <td>State</td>\n",
       "      <td>Tamil Nadu</td>\n",
       "      <td>Karnataka</td>\n",
       "      <td>Tamil Nadu</td>\n",
       "      <td>Uttar Pradesh</td>\n",
       "      <td>Bihar</td>\n",
       "      <td>Bihar</td>\n",
       "      <td>Delhi</td>\n",
       "      <td>Uttar Pradesh</td>\n",
       "      <td>Telangana</td>\n",
       "      <td>Chattisgarh</td>\n",
       "    </tr>\n",
       "    <tr>\n",
       "      <td>Age</td>\n",
       "      <td>23</td>\n",
       "      <td>37</td>\n",
       "      <td>35</td>\n",
       "      <td>26</td>\n",
       "      <td>59</td>\n",
       "      <td>48</td>\n",
       "      <td>30</td>\n",
       "      <td>72</td>\n",
       "      <td>22</td>\n",
       "      <td>42</td>\n",
       "    </tr>\n",
       "    <tr>\n",
       "      <td>Sex</td>\n",
       "      <td>M</td>\n",
       "      <td>F</td>\n",
       "      <td>F</td>\n",
       "      <td>F</td>\n",
       "      <td>M</td>\n",
       "      <td>M</td>\n",
       "      <td>F</td>\n",
       "      <td>M</td>\n",
       "      <td>F</td>\n",
       "      <td>M</td>\n",
       "    </tr>\n",
       "    <tr>\n",
       "      <td>Number of siblings</td>\n",
       "      <td>0</td>\n",
       "      <td>3</td>\n",
       "      <td>1</td>\n",
       "      <td>4</td>\n",
       "      <td>5</td>\n",
       "      <td>6</td>\n",
       "      <td>2</td>\n",
       "      <td>10</td>\n",
       "      <td>0</td>\n",
       "      <td>7</td>\n",
       "    </tr>\n",
       "  </tbody>\n",
       "</table>\n",
       "</div>"
      ],
      "text/plain": [
       "                             0          1           2              3      4  \\\n",
       "Name                         A          B           C              D      E   \n",
       "Income per month            50         34          54             24     19   \n",
       "State               Tamil Nadu  Karnataka  Tamil Nadu  Uttar Pradesh  Bihar   \n",
       "Age                         23         37          35             26     59   \n",
       "Sex                          M          F           F              F      M   \n",
       "Number of siblings           0          3           1              4      5   \n",
       "\n",
       "                        5      6              7          8            9  \n",
       "Name                    F      G              H          I            J  \n",
       "Income per month       21     40             20         30           18  \n",
       "State               Bihar  Delhi  Uttar Pradesh  Telangana  Chattisgarh  \n",
       "Age                    48     30             72         22           42  \n",
       "Sex                     M      F              M          F            M  \n",
       "Number of siblings      6      2             10          0            7  "
      ]
     },
     "execution_count": 43,
     "metadata": {},
     "output_type": "execute_result"
    }
   ],
   "source": [
    "#we can find a transpose the matrix using:\n",
    "df.T"
   ]
  },
  {
   "cell_type": "markdown",
   "metadata": {},
   "source": [
    "Our dataset can be very big which we cannot print like this, so we need to print limited number of rows so that we can assess the dataset and the parameters it uses. if we have to print a few number of rows, we use:"
   ]
  },
  {
   "cell_type": "code",
   "execution_count": 12,
   "metadata": {},
   "outputs": [
    {
     "data": {
      "text/html": "<div>\n<style scoped>\n    .dataframe tbody tr th:only-of-type {\n        vertical-align: middle;\n    }\n\n    .dataframe tbody tr th {\n        vertical-align: top;\n    }\n\n    .dataframe thead th {\n        text-align: right;\n    }\n</style>\n<table border=\"1\" class=\"dataframe\">\n  <thead>\n    <tr style=\"text-align: right;\">\n      <th></th>\n      <th>Name</th>\n      <th>Income per month</th>\n      <th>State</th>\n      <th>Age</th>\n      <th>Sex</th>\n      <th>Number of siblings</th>\n    </tr>\n  </thead>\n  <tbody>\n    <tr>\n      <th>0</th>\n      <td>A</td>\n      <td>50</td>\n      <td>Tamil Nadu</td>\n      <td>23</td>\n      <td>M</td>\n      <td>0</td>\n    </tr>\n    <tr>\n      <th>1</th>\n      <td>B</td>\n      <td>34</td>\n      <td>Karnataka</td>\n      <td>37</td>\n      <td>F</td>\n      <td>3</td>\n    </tr>\n    <tr>\n      <th>2</th>\n      <td>C</td>\n      <td>54</td>\n      <td>Tamil Nadu</td>\n      <td>35</td>\n      <td>F</td>\n      <td>1</td>\n    </tr>\n  </tbody>\n</table>\n</div>",
      "text/plain": "  Name  Income per month       State  Age Sex  Number of siblings\n0    A                50  Tamil Nadu   23   M                   0\n1    B                34   Karnataka   37   F                   3\n2    C                54  Tamil Nadu   35   F                   1"
     },
     "execution_count": 12,
     "metadata": {},
     "output_type": "execute_result"
    }
   ],
   "source": [
    "df.head(3) #from beginning"
   ]
  },
  {
   "cell_type": "code",
   "execution_count": 13,
   "metadata": {},
   "outputs": [
    {
     "data": {
      "text/html": "<div>\n<style scoped>\n    .dataframe tbody tr th:only-of-type {\n        vertical-align: middle;\n    }\n\n    .dataframe tbody tr th {\n        vertical-align: top;\n    }\n\n    .dataframe thead th {\n        text-align: right;\n    }\n</style>\n<table border=\"1\" class=\"dataframe\">\n  <thead>\n    <tr style=\"text-align: right;\">\n      <th></th>\n      <th>Name</th>\n      <th>Income per month</th>\n      <th>State</th>\n      <th>Age</th>\n      <th>Sex</th>\n      <th>Number of siblings</th>\n    </tr>\n  </thead>\n  <tbody>\n    <tr>\n      <th>8</th>\n      <td>I</td>\n      <td>30</td>\n      <td>Telangana</td>\n      <td>22</td>\n      <td>F</td>\n      <td>0</td>\n    </tr>\n    <tr>\n      <th>9</th>\n      <td>J</td>\n      <td>18</td>\n      <td>Chattisgarh</td>\n      <td>42</td>\n      <td>M</td>\n      <td>7</td>\n    </tr>\n  </tbody>\n</table>\n</div>",
      "text/plain": "  Name  Income per month        State  Age Sex  Number of siblings\n8    I                30    Telangana   22   F                   0\n9    J                18  Chattisgarh   42   M                   7"
     },
     "execution_count": 13,
     "metadata": {},
     "output_type": "execute_result"
    }
   ],
   "source": [
    "df.tail(2) #from the end"
   ]
  },
  {
   "cell_type": "markdown",
   "metadata": {},
   "source": [
    "If we have to get an overview of the data, we use:"
   ]
  },
  {
   "cell_type": "code",
   "execution_count": 14,
   "metadata": {},
   "outputs": [
    {
     "name": "stdout",
     "output_type": "stream",
     "text": "<class 'pandas.core.frame.DataFrame'>\nRangeIndex: 10 entries, 0 to 9\nData columns (total 6 columns):\nName                  10 non-null object\nIncome per month      10 non-null int64\nState                 10 non-null object\nAge                   10 non-null int64\nSex                   10 non-null object\nNumber of siblings    10 non-null int64\ndtypes: int64(3), object(3)\nmemory usage: 560.0+ bytes\n"
    }
   ],
   "source": [
    "df.info() "
   ]
  },
  {
   "cell_type": "markdown",
   "metadata": {},
   "source": [
    "### Renaming columns:\n",
    "Many a times in dataset, we need to rename the column names for our convenience and that is where we will use the following command:\n"
   ]
  },
  {
   "cell_type": "code",
   "execution_count": 22,
   "metadata": {},
   "outputs": [
    {
     "data": {
      "text/html": "<div>\n<style scoped>\n    .dataframe tbody tr th:only-of-type {\n        vertical-align: middle;\n    }\n\n    .dataframe tbody tr th {\n        vertical-align: top;\n    }\n\n    .dataframe thead th {\n        text-align: right;\n    }\n</style>\n<table border=\"1\" class=\"dataframe\">\n  <thead>\n    <tr style=\"text-align: right;\">\n      <th></th>\n      <th>Name</th>\n      <th>Income per month</th>\n      <th>State_name</th>\n      <th>Age</th>\n      <th>Sex</th>\n      <th>Number of siblings</th>\n    </tr>\n  </thead>\n  <tbody>\n    <tr>\n      <th>0</th>\n      <td>A</td>\n      <td>50</td>\n      <td>Tamil Nadu</td>\n      <td>23</td>\n      <td>M</td>\n      <td>0</td>\n    </tr>\n    <tr>\n      <th>1</th>\n      <td>B</td>\n      <td>34</td>\n      <td>Karnataka</td>\n      <td>37</td>\n      <td>F</td>\n      <td>3</td>\n    </tr>\n    <tr>\n      <th>2</th>\n      <td>C</td>\n      <td>54</td>\n      <td>Tamil Nadu</td>\n      <td>35</td>\n      <td>F</td>\n      <td>1</td>\n    </tr>\n    <tr>\n      <th>3</th>\n      <td>D</td>\n      <td>24</td>\n      <td>Uttar Pradesh</td>\n      <td>26</td>\n      <td>F</td>\n      <td>4</td>\n    </tr>\n    <tr>\n      <th>4</th>\n      <td>E</td>\n      <td>19</td>\n      <td>Bihar</td>\n      <td>59</td>\n      <td>M</td>\n      <td>5</td>\n    </tr>\n    <tr>\n      <th>5</th>\n      <td>F</td>\n      <td>21</td>\n      <td>Bihar</td>\n      <td>48</td>\n      <td>M</td>\n      <td>6</td>\n    </tr>\n    <tr>\n      <th>6</th>\n      <td>G</td>\n      <td>40</td>\n      <td>Delhi</td>\n      <td>30</td>\n      <td>F</td>\n      <td>2</td>\n    </tr>\n    <tr>\n      <th>7</th>\n      <td>H</td>\n      <td>20</td>\n      <td>Uttar Pradesh</td>\n      <td>72</td>\n      <td>M</td>\n      <td>10</td>\n    </tr>\n    <tr>\n      <th>8</th>\n      <td>I</td>\n      <td>30</td>\n      <td>Telangana</td>\n      <td>22</td>\n      <td>F</td>\n      <td>0</td>\n    </tr>\n    <tr>\n      <th>9</th>\n      <td>J</td>\n      <td>18</td>\n      <td>Chattisgarh</td>\n      <td>42</td>\n      <td>M</td>\n      <td>7</td>\n    </tr>\n  </tbody>\n</table>\n</div>",
      "text/plain": "  Name  Income per month     State_name  Age Sex  Number of siblings\n0    A                50     Tamil Nadu   23   M                   0\n1    B                34      Karnataka   37   F                   3\n2    C                54     Tamil Nadu   35   F                   1\n3    D                24  Uttar Pradesh   26   F                   4\n4    E                19          Bihar   59   M                   5\n5    F                21          Bihar   48   M                   6\n6    G                40          Delhi   30   F                   2\n7    H                20  Uttar Pradesh   72   M                  10\n8    I                30      Telangana   22   F                   0\n9    J                18    Chattisgarh   42   M                   7"
     },
     "execution_count": 22,
     "metadata": {},
     "output_type": "execute_result"
    }
   ],
   "source": [
    "df1=df.rename(columns={\"State\":\"State_name\"})\n",
    "df1"
   ]
  },
  {
   "cell_type": "markdown",
   "metadata": {},
   "source": [
    "## Q2: Rename alll the coumns in the dataset as per your wish and save it in another dataframe and name it df2"
   ]
  },
  {
   "cell_type": "code",
   "execution_count": 23,
   "metadata": {},
   "outputs": [
    {
     "data": {
      "text/html": "<div>\n<style scoped>\n    .dataframe tbody tr th:only-of-type {\n        vertical-align: middle;\n    }\n\n    .dataframe tbody tr th {\n        vertical-align: top;\n    }\n\n    .dataframe thead th {\n        text-align: right;\n    }\n</style>\n<table border=\"1\" class=\"dataframe\">\n  <thead>\n    <tr style=\"text-align: right;\">\n      <th></th>\n      <th>Individual_Name</th>\n      <th>Salary</th>\n      <th>State_name</th>\n      <th>Current_Age</th>\n      <th>Sex</th>\n      <th>Sibling_Count</th>\n    </tr>\n  </thead>\n  <tbody>\n    <tr>\n      <th>0</th>\n      <td>A</td>\n      <td>50</td>\n      <td>Tamil Nadu</td>\n      <td>23</td>\n      <td>M</td>\n      <td>0</td>\n    </tr>\n    <tr>\n      <th>1</th>\n      <td>B</td>\n      <td>34</td>\n      <td>Karnataka</td>\n      <td>37</td>\n      <td>F</td>\n      <td>3</td>\n    </tr>\n    <tr>\n      <th>2</th>\n      <td>C</td>\n      <td>54</td>\n      <td>Tamil Nadu</td>\n      <td>35</td>\n      <td>F</td>\n      <td>1</td>\n    </tr>\n    <tr>\n      <th>3</th>\n      <td>D</td>\n      <td>24</td>\n      <td>Uttar Pradesh</td>\n      <td>26</td>\n      <td>F</td>\n      <td>4</td>\n    </tr>\n    <tr>\n      <th>4</th>\n      <td>E</td>\n      <td>19</td>\n      <td>Bihar</td>\n      <td>59</td>\n      <td>M</td>\n      <td>5</td>\n    </tr>\n    <tr>\n      <th>5</th>\n      <td>F</td>\n      <td>21</td>\n      <td>Bihar</td>\n      <td>48</td>\n      <td>M</td>\n      <td>6</td>\n    </tr>\n    <tr>\n      <th>6</th>\n      <td>G</td>\n      <td>40</td>\n      <td>Delhi</td>\n      <td>30</td>\n      <td>F</td>\n      <td>2</td>\n    </tr>\n    <tr>\n      <th>7</th>\n      <td>H</td>\n      <td>20</td>\n      <td>Uttar Pradesh</td>\n      <td>72</td>\n      <td>M</td>\n      <td>10</td>\n    </tr>\n    <tr>\n      <th>8</th>\n      <td>I</td>\n      <td>30</td>\n      <td>Telangana</td>\n      <td>22</td>\n      <td>F</td>\n      <td>0</td>\n    </tr>\n    <tr>\n      <th>9</th>\n      <td>J</td>\n      <td>18</td>\n      <td>Chattisgarh</td>\n      <td>42</td>\n      <td>M</td>\n      <td>7</td>\n    </tr>\n  </tbody>\n</table>\n</div>",
      "text/plain": "  Individual_Name  Salary     State_name  Current_Age Sex  Sibling_Count\n0               A      50     Tamil Nadu           23   M              0\n1               B      34      Karnataka           37   F              3\n2               C      54     Tamil Nadu           35   F              1\n3               D      24  Uttar Pradesh           26   F              4\n4               E      19          Bihar           59   M              5\n5               F      21          Bihar           48   M              6\n6               G      40          Delhi           30   F              2\n7               H      20  Uttar Pradesh           72   M             10\n8               I      30      Telangana           22   F              0\n9               J      18    Chattisgarh           42   M              7"
     },
     "execution_count": 23,
     "metadata": {},
     "output_type": "execute_result"
    }
   ],
   "source": [
    "df2=df.rename(columns={\"Name\":\"Individual_Name\", \"Income per month\":\"Salary\", \"State\":\"State_name\", \"Age\":\"Current_Age\", \"Number of siblings\" : \"Sibling_Count\"})\n",
    "df2"
   ]
  },
  {
   "cell_type": "markdown",
   "metadata": {},
   "source": [
    "Now, if we had to rename the coumns in our original dataframe, without making a new dataframe df1, we will use inplace=True"
   ]
  },
  {
   "cell_type": "code",
   "execution_count": 24,
   "metadata": {},
   "outputs": [
    {
     "data": {
      "text/html": "<div>\n<style scoped>\n    .dataframe tbody tr th:only-of-type {\n        vertical-align: middle;\n    }\n\n    .dataframe tbody tr th {\n        vertical-align: top;\n    }\n\n    .dataframe thead th {\n        text-align: right;\n    }\n</style>\n<table border=\"1\" class=\"dataframe\">\n  <thead>\n    <tr style=\"text-align: right;\">\n      <th></th>\n      <th>Name</th>\n      <th>Income per month</th>\n      <th>State_name</th>\n      <th>Age</th>\n      <th>Sex</th>\n      <th>Number of siblings</th>\n    </tr>\n  </thead>\n  <tbody>\n    <tr>\n      <th>0</th>\n      <td>A</td>\n      <td>50</td>\n      <td>Tamil Nadu</td>\n      <td>23</td>\n      <td>M</td>\n      <td>0</td>\n    </tr>\n    <tr>\n      <th>1</th>\n      <td>B</td>\n      <td>34</td>\n      <td>Karnataka</td>\n      <td>37</td>\n      <td>F</td>\n      <td>3</td>\n    </tr>\n    <tr>\n      <th>2</th>\n      <td>C</td>\n      <td>54</td>\n      <td>Tamil Nadu</td>\n      <td>35</td>\n      <td>F</td>\n      <td>1</td>\n    </tr>\n    <tr>\n      <th>3</th>\n      <td>D</td>\n      <td>24</td>\n      <td>Uttar Pradesh</td>\n      <td>26</td>\n      <td>F</td>\n      <td>4</td>\n    </tr>\n    <tr>\n      <th>4</th>\n      <td>E</td>\n      <td>19</td>\n      <td>Bihar</td>\n      <td>59</td>\n      <td>M</td>\n      <td>5</td>\n    </tr>\n    <tr>\n      <th>5</th>\n      <td>F</td>\n      <td>21</td>\n      <td>Bihar</td>\n      <td>48</td>\n      <td>M</td>\n      <td>6</td>\n    </tr>\n    <tr>\n      <th>6</th>\n      <td>G</td>\n      <td>40</td>\n      <td>Delhi</td>\n      <td>30</td>\n      <td>F</td>\n      <td>2</td>\n    </tr>\n    <tr>\n      <th>7</th>\n      <td>H</td>\n      <td>20</td>\n      <td>Uttar Pradesh</td>\n      <td>72</td>\n      <td>M</td>\n      <td>10</td>\n    </tr>\n    <tr>\n      <th>8</th>\n      <td>I</td>\n      <td>30</td>\n      <td>Telangana</td>\n      <td>22</td>\n      <td>F</td>\n      <td>0</td>\n    </tr>\n    <tr>\n      <th>9</th>\n      <td>J</td>\n      <td>18</td>\n      <td>Chattisgarh</td>\n      <td>42</td>\n      <td>M</td>\n      <td>7</td>\n    </tr>\n  </tbody>\n</table>\n</div>",
      "text/plain": "  Name  Income per month     State_name  Age Sex  Number of siblings\n0    A                50     Tamil Nadu   23   M                   0\n1    B                34      Karnataka   37   F                   3\n2    C                54     Tamil Nadu   35   F                   1\n3    D                24  Uttar Pradesh   26   F                   4\n4    E                19          Bihar   59   M                   5\n5    F                21          Bihar   48   M                   6\n6    G                40          Delhi   30   F                   2\n7    H                20  Uttar Pradesh   72   M                  10\n8    I                30      Telangana   22   F                   0\n9    J                18    Chattisgarh   42   M                   7"
     },
     "execution_count": 24,
     "metadata": {},
     "output_type": "execute_result"
    }
   ],
   "source": [
    "df.rename(columns={\"State\":\"State_name\"}, inplace=True)\n",
    "df"
   ]
  },
  {
   "cell_type": "markdown",
   "metadata": {},
   "source": [
    "As you can see, our original dataframe has been changed. \n",
    "\n",
    "## Q3: After you have created df2, make the same changes in the original dataframe using the inplace. "
   ]
  },
  {
   "cell_type": "code",
   "execution_count": 18,
   "metadata": {},
   "outputs": [
    {
     "data": {
      "text/html": "<div>\n<style scoped>\n    .dataframe tbody tr th:only-of-type {\n        vertical-align: middle;\n    }\n\n    .dataframe tbody tr th {\n        vertical-align: top;\n    }\n\n    .dataframe thead th {\n        text-align: right;\n    }\n</style>\n<table border=\"1\" class=\"dataframe\">\n  <thead>\n    <tr style=\"text-align: right;\">\n      <th></th>\n      <th>Individual_Name</th>\n      <th>Salary</th>\n      <th>State_name</th>\n      <th>Current_Age</th>\n      <th>Sex</th>\n      <th>Sibling_Count</th>\n    </tr>\n  </thead>\n  <tbody>\n    <tr>\n      <th>0</th>\n      <td>A</td>\n      <td>50</td>\n      <td>Tamil Nadu</td>\n      <td>23</td>\n      <td>M</td>\n      <td>0</td>\n    </tr>\n    <tr>\n      <th>1</th>\n      <td>B</td>\n      <td>34</td>\n      <td>Karnataka</td>\n      <td>37</td>\n      <td>F</td>\n      <td>3</td>\n    </tr>\n    <tr>\n      <th>2</th>\n      <td>C</td>\n      <td>54</td>\n      <td>Tamil Nadu</td>\n      <td>35</td>\n      <td>F</td>\n      <td>1</td>\n    </tr>\n    <tr>\n      <th>3</th>\n      <td>D</td>\n      <td>24</td>\n      <td>Uttar Pradesh</td>\n      <td>26</td>\n      <td>F</td>\n      <td>4</td>\n    </tr>\n    <tr>\n      <th>4</th>\n      <td>E</td>\n      <td>19</td>\n      <td>Bihar</td>\n      <td>59</td>\n      <td>M</td>\n      <td>5</td>\n    </tr>\n    <tr>\n      <th>5</th>\n      <td>F</td>\n      <td>21</td>\n      <td>Bihar</td>\n      <td>48</td>\n      <td>M</td>\n      <td>6</td>\n    </tr>\n    <tr>\n      <th>6</th>\n      <td>G</td>\n      <td>40</td>\n      <td>Delhi</td>\n      <td>30</td>\n      <td>F</td>\n      <td>2</td>\n    </tr>\n    <tr>\n      <th>7</th>\n      <td>H</td>\n      <td>20</td>\n      <td>Uttar Pradesh</td>\n      <td>72</td>\n      <td>M</td>\n      <td>10</td>\n    </tr>\n    <tr>\n      <th>8</th>\n      <td>I</td>\n      <td>30</td>\n      <td>Telangana</td>\n      <td>22</td>\n      <td>F</td>\n      <td>0</td>\n    </tr>\n    <tr>\n      <th>9</th>\n      <td>J</td>\n      <td>18</td>\n      <td>Chattisgarh</td>\n      <td>42</td>\n      <td>M</td>\n      <td>7</td>\n    </tr>\n  </tbody>\n</table>\n</div>",
      "text/plain": "  Individual_Name  Salary     State_name  Current_Age Sex  Sibling_Count\n0               A      50     Tamil Nadu           23   M              0\n1               B      34      Karnataka           37   F              3\n2               C      54     Tamil Nadu           35   F              1\n3               D      24  Uttar Pradesh           26   F              4\n4               E      19          Bihar           59   M              5\n5               F      21          Bihar           48   M              6\n6               G      40          Delhi           30   F              2\n7               H      20  Uttar Pradesh           72   M             10\n8               I      30      Telangana           22   F              0\n9               J      18    Chattisgarh           42   M              7"
     },
     "execution_count": 18,
     "metadata": {},
     "output_type": "execute_result"
    }
   ],
   "source": [
    "df.rename(columns={\"Name\":\"Individual_Name\", \"Income per month\":\"Salary\", \"State\":\"State_name\", \"Age\":\"Current_Age\", \"Number of siblings\" : \"Sibling_Count\"}, inplace=True)\n",
    "df"
   ]
  },
  {
   "cell_type": "markdown",
   "metadata": {},
   "source": [
    "Now suppose we only want the columns information, State_name and age, then we will use the following command:"
   ]
  },
  {
   "cell_type": "code",
   "execution_count": 25,
   "metadata": {},
   "outputs": [
    {
     "data": {
      "text/html": "<div>\n<style scoped>\n    .dataframe tbody tr th:only-of-type {\n        vertical-align: middle;\n    }\n\n    .dataframe tbody tr th {\n        vertical-align: top;\n    }\n\n    .dataframe thead th {\n        text-align: right;\n    }\n</style>\n<table border=\"1\" class=\"dataframe\">\n  <thead>\n    <tr style=\"text-align: right;\">\n      <th></th>\n      <th>Name</th>\n      <th>State_name</th>\n      <th>Age</th>\n    </tr>\n  </thead>\n  <tbody>\n    <tr>\n      <th>0</th>\n      <td>A</td>\n      <td>Tamil Nadu</td>\n      <td>23</td>\n    </tr>\n    <tr>\n      <th>1</th>\n      <td>B</td>\n      <td>Karnataka</td>\n      <td>37</td>\n    </tr>\n    <tr>\n      <th>2</th>\n      <td>C</td>\n      <td>Tamil Nadu</td>\n      <td>35</td>\n    </tr>\n    <tr>\n      <th>3</th>\n      <td>D</td>\n      <td>Uttar Pradesh</td>\n      <td>26</td>\n    </tr>\n    <tr>\n      <th>4</th>\n      <td>E</td>\n      <td>Bihar</td>\n      <td>59</td>\n    </tr>\n    <tr>\n      <th>5</th>\n      <td>F</td>\n      <td>Bihar</td>\n      <td>48</td>\n    </tr>\n    <tr>\n      <th>6</th>\n      <td>G</td>\n      <td>Delhi</td>\n      <td>30</td>\n    </tr>\n    <tr>\n      <th>7</th>\n      <td>H</td>\n      <td>Uttar Pradesh</td>\n      <td>72</td>\n    </tr>\n    <tr>\n      <th>8</th>\n      <td>I</td>\n      <td>Telangana</td>\n      <td>22</td>\n    </tr>\n    <tr>\n      <th>9</th>\n      <td>J</td>\n      <td>Chattisgarh</td>\n      <td>42</td>\n    </tr>\n  </tbody>\n</table>\n</div>",
      "text/plain": "  Name     State_name  Age\n0    A     Tamil Nadu   23\n1    B      Karnataka   37\n2    C     Tamil Nadu   35\n3    D  Uttar Pradesh   26\n4    E          Bihar   59\n5    F          Bihar   48\n6    G          Delhi   30\n7    H  Uttar Pradesh   72\n8    I      Telangana   22\n9    J    Chattisgarh   42"
     },
     "execution_count": 25,
     "metadata": {},
     "output_type": "execute_result"
    }
   ],
   "source": [
    "df[[\"Name\",\"State_name\",\"Age\"]]"
   ]
  },
  {
   "cell_type": "markdown",
   "metadata": {},
   "source": [
    "## Q4: Show only the columns information, sex and number of siblings. \n",
    "\n",
    "There is one more method which we can use to select rwos and columns, the iloc method. We mentioned the rwo and coumn numbers. Always remeber that counting of rows and coumns starts from 0 in Python. \n",
    "\n",
    "First we mention the number of rows then columns, in our case, we used 0:3, note that 3 is excluded, so if we had to use 0-3 rows, we will write 0:4 "
   ]
  },
  {
   "cell_type": "code",
   "execution_count": 26,
   "metadata": {},
   "outputs": [
    {
     "data": {
      "text/html": "<div>\n<style scoped>\n    .dataframe tbody tr th:only-of-type {\n        vertical-align: middle;\n    }\n\n    .dataframe tbody tr th {\n        vertical-align: top;\n    }\n\n    .dataframe thead th {\n        text-align: right;\n    }\n</style>\n<table border=\"1\" class=\"dataframe\">\n  <thead>\n    <tr style=\"text-align: right;\">\n      <th></th>\n      <th>Sex</th>\n      <th>Number of siblings</th>\n    </tr>\n  </thead>\n  <tbody>\n    <tr>\n      <th>0</th>\n      <td>M</td>\n      <td>0</td>\n    </tr>\n    <tr>\n      <th>1</th>\n      <td>F</td>\n      <td>3</td>\n    </tr>\n    <tr>\n      <th>2</th>\n      <td>F</td>\n      <td>1</td>\n    </tr>\n    <tr>\n      <th>3</th>\n      <td>F</td>\n      <td>4</td>\n    </tr>\n    <tr>\n      <th>4</th>\n      <td>M</td>\n      <td>5</td>\n    </tr>\n    <tr>\n      <th>5</th>\n      <td>M</td>\n      <td>6</td>\n    </tr>\n    <tr>\n      <th>6</th>\n      <td>F</td>\n      <td>2</td>\n    </tr>\n    <tr>\n      <th>7</th>\n      <td>M</td>\n      <td>10</td>\n    </tr>\n    <tr>\n      <th>8</th>\n      <td>F</td>\n      <td>0</td>\n    </tr>\n    <tr>\n      <th>9</th>\n      <td>M</td>\n      <td>7</td>\n    </tr>\n  </tbody>\n</table>\n</div>",
      "text/plain": "  Sex  Number of siblings\n0   M                   0\n1   F                   3\n2   F                   1\n3   F                   4\n4   M                   5\n5   M                   6\n6   F                   2\n7   M                  10\n8   F                   0\n9   M                   7"
     },
     "execution_count": 26,
     "metadata": {},
     "output_type": "execute_result"
    }
   ],
   "source": [
    "df[[\"Sex\",\"Number of siblings\"]]"
   ]
  },
  {
   "cell_type": "code",
   "execution_count": 27,
   "metadata": {},
   "outputs": [
    {
     "data": {
      "text/html": "<div>\n<style scoped>\n    .dataframe tbody tr th:only-of-type {\n        vertical-align: middle;\n    }\n\n    .dataframe tbody tr th {\n        vertical-align: top;\n    }\n\n    .dataframe thead th {\n        text-align: right;\n    }\n</style>\n<table border=\"1\" class=\"dataframe\">\n  <thead>\n    <tr style=\"text-align: right;\">\n      <th></th>\n      <th>Name</th>\n      <th>Income per month</th>\n    </tr>\n  </thead>\n  <tbody>\n    <tr>\n      <th>0</th>\n      <td>A</td>\n      <td>50</td>\n    </tr>\n    <tr>\n      <th>1</th>\n      <td>B</td>\n      <td>34</td>\n    </tr>\n    <tr>\n      <th>2</th>\n      <td>C</td>\n      <td>54</td>\n    </tr>\n  </tbody>\n</table>\n</div>",
      "text/plain": "  Name  Income per month\n0    A                50\n1    B                34\n2    C                54"
     },
     "execution_count": 27,
     "metadata": {},
     "output_type": "execute_result"
    }
   ],
   "source": [
    "df.iloc[0:3,0:2]"
   ]
  },
  {
   "cell_type": "markdown",
   "metadata": {},
   "source": [
    "## Q5: Use iloc method to print data from column 1 to 4 and rows 3 to 9"
   ]
  },
  {
   "cell_type": "code",
   "execution_count": 28,
   "metadata": {},
   "outputs": [
    {
     "data": {
      "text/html": "<div>\n<style scoped>\n    .dataframe tbody tr th:only-of-type {\n        vertical-align: middle;\n    }\n\n    .dataframe tbody tr th {\n        vertical-align: top;\n    }\n\n    .dataframe thead th {\n        text-align: right;\n    }\n</style>\n<table border=\"1\" class=\"dataframe\">\n  <thead>\n    <tr style=\"text-align: right;\">\n      <th></th>\n      <th>Income per month</th>\n      <th>State_name</th>\n      <th>Age</th>\n      <th>Sex</th>\n    </tr>\n  </thead>\n  <tbody>\n    <tr>\n      <th>3</th>\n      <td>24</td>\n      <td>Uttar Pradesh</td>\n      <td>26</td>\n      <td>F</td>\n    </tr>\n    <tr>\n      <th>4</th>\n      <td>19</td>\n      <td>Bihar</td>\n      <td>59</td>\n      <td>M</td>\n    </tr>\n    <tr>\n      <th>5</th>\n      <td>21</td>\n      <td>Bihar</td>\n      <td>48</td>\n      <td>M</td>\n    </tr>\n    <tr>\n      <th>6</th>\n      <td>40</td>\n      <td>Delhi</td>\n      <td>30</td>\n      <td>F</td>\n    </tr>\n    <tr>\n      <th>7</th>\n      <td>20</td>\n      <td>Uttar Pradesh</td>\n      <td>72</td>\n      <td>M</td>\n    </tr>\n    <tr>\n      <th>8</th>\n      <td>30</td>\n      <td>Telangana</td>\n      <td>22</td>\n      <td>F</td>\n    </tr>\n    <tr>\n      <th>9</th>\n      <td>18</td>\n      <td>Chattisgarh</td>\n      <td>42</td>\n      <td>M</td>\n    </tr>\n  </tbody>\n</table>\n</div>",
      "text/plain": "   Income per month     State_name  Age Sex\n3                24  Uttar Pradesh   26   F\n4                19          Bihar   59   M\n5                21          Bihar   48   M\n6                40          Delhi   30   F\n7                20  Uttar Pradesh   72   M\n8                30      Telangana   22   F\n9                18    Chattisgarh   42   M"
     },
     "execution_count": 28,
     "metadata": {},
     "output_type": "execute_result"
    }
   ],
   "source": [
    "df.iloc[3:10,1:5]"
   ]
  },
  {
   "cell_type": "markdown",
   "metadata": {},
   "source": [
    "This dataset is small and we can manually see if there are missing values or not, but in a large dataset, it will not be possible, so we will use the following command:"
   ]
  },
  {
   "cell_type": "code",
   "execution_count": 29,
   "metadata": {},
   "outputs": [
    {
     "data": {
      "text/plain": "Name                  0\nIncome per month      0\nState_name            0\nAge                   0\nSex                   0\nNumber of siblings    0\ndtype: int64"
     },
     "execution_count": 29,
     "metadata": {},
     "output_type": "execute_result"
    }
   ],
   "source": [
    "df.isna().sum()"
   ]
  },
  {
   "cell_type": "markdown",
   "metadata": {},
   "source": [
    "### Basic Statistics with Pandas"
   ]
  },
  {
   "cell_type": "markdown",
   "metadata": {},
   "source": [
    "When we look at a dataset, we need to know the information of the data in statistical terms. So we use describe function and info function: "
   ]
  },
  {
   "cell_type": "code",
   "execution_count": 7,
   "metadata": {},
   "outputs": [
    {
     "data": {
      "text/html": "<div>\n<style scoped>\n    .dataframe tbody tr th:only-of-type {\n        vertical-align: middle;\n    }\n\n    .dataframe tbody tr th {\n        vertical-align: top;\n    }\n\n    .dataframe thead th {\n        text-align: right;\n    }\n</style>\n<table border=\"1\" class=\"dataframe\">\n  <thead>\n    <tr style=\"text-align: right;\">\n      <th></th>\n      <th>Income per month</th>\n      <th>Age</th>\n      <th>Number of siblings</th>\n    </tr>\n  </thead>\n  <tbody>\n    <tr>\n      <th>count</th>\n      <td>10.00000</td>\n      <td>10.000000</td>\n      <td>10.000000</td>\n    </tr>\n    <tr>\n      <th>mean</th>\n      <td>31.00000</td>\n      <td>39.400000</td>\n      <td>3.800000</td>\n    </tr>\n    <tr>\n      <th>std</th>\n      <td>13.18248</td>\n      <td>16.304055</td>\n      <td>3.259175</td>\n    </tr>\n    <tr>\n      <th>min</th>\n      <td>18.00000</td>\n      <td>22.000000</td>\n      <td>0.000000</td>\n    </tr>\n    <tr>\n      <th>25%</th>\n      <td>20.25000</td>\n      <td>27.000000</td>\n      <td>1.250000</td>\n    </tr>\n    <tr>\n      <th>50%</th>\n      <td>27.00000</td>\n      <td>36.000000</td>\n      <td>3.500000</td>\n    </tr>\n    <tr>\n      <th>75%</th>\n      <td>38.50000</td>\n      <td>46.500000</td>\n      <td>5.750000</td>\n    </tr>\n    <tr>\n      <th>max</th>\n      <td>54.00000</td>\n      <td>72.000000</td>\n      <td>10.000000</td>\n    </tr>\n  </tbody>\n</table>\n</div>",
      "text/plain": "       Income per month        Age  Number of siblings\ncount          10.00000  10.000000           10.000000\nmean           31.00000  39.400000            3.800000\nstd            13.18248  16.304055            3.259175\nmin            18.00000  22.000000            0.000000\n25%            20.25000  27.000000            1.250000\n50%            27.00000  36.000000            3.500000\n75%            38.50000  46.500000            5.750000\nmax            54.00000  72.000000           10.000000"
     },
     "execution_count": 7,
     "metadata": {},
     "output_type": "execute_result"
    }
   ],
   "source": [
    "df.describe()"
   ]
  },
  {
   "cell_type": "markdown",
   "metadata": {},
   "source": [
    "This gives us the total count, mean, standard deviation, minimum and maximum values, interquartile values. This helps us to get more insights into data. If you are not familiar with these terms, I advise you to read more about them as machine learning makes use of statistics to a very great degree.  \n",
    "\n",
    "Suppose we have to find how many males and females are there in our dataset, we will use the following command:"
   ]
  },
  {
   "cell_type": "code",
   "execution_count": 31,
   "metadata": {},
   "outputs": [
    {
     "data": {
      "text/plain": "M    5\nF    5\nName: Sex, dtype: int64"
     },
     "execution_count": 31,
     "metadata": {},
     "output_type": "execute_result"
    }
   ],
   "source": [
    "df[\"Sex\"].value_counts()"
   ]
  },
  {
   "cell_type": "markdown",
   "metadata": {},
   "source": [
    "## Q6: Find the total value count of number of siblings in the given dataset"
   ]
  },
  {
   "cell_type": "code",
   "execution_count": 32,
   "metadata": {},
   "outputs": [
    {
     "data": {
      "text/plain": "0     2\n10    1\n7     1\n6     1\n5     1\n4     1\n3     1\n2     1\n1     1\nName: Number of siblings, dtype: int64"
     },
     "execution_count": 32,
     "metadata": {},
     "output_type": "execute_result"
    }
   ],
   "source": [
    "df[\"Number of siblings\"].value_counts()"
   ]
  },
  {
   "cell_type": "markdown",
   "metadata": {},
   "source": [
    "# 3. Learning Seaborn"
   ]
  },
  {
   "cell_type": "markdown",
   "metadata": {},
   "source": [
    "Seaborn is a Python data visualization library based on matplotlib. It provides a high-level interface for drawing attractive and informative statistical graphics.\n",
    "\n",
    "Here is some of the functionality that seaborn offers:\n",
    "\n",
    "1. A dataset-oriented API for examining relationships between multiple variables\n",
    "\n",
    "2. Specialized support for using categorical variables to show observations or aggregate statistics\n",
    "\n",
    "3. Options for visualizing univariate or bivariate distributions and for comparing them between subsets of data\n",
    "\n",
    "4. Automatic estimation and plotting of linear regression models for different kinds dependent variables\n",
    "\n",
    "5. Convenient views onto the overall structure of complex datasets\n",
    "\n",
    "6. High-level abstractions for structuring multi-plot grids that let you easily build complex visualizations\n",
    "\n",
    "7. Concise control over matplotlib figure styling with several built-in themes\n",
    "\n",
    "8. Tools for choosing color palettes that faithfully reveal patterns in your data\n",
    "\n",
    "Seaborn aims to make visualization a central part of exploring and understanding data. Its dataset-oriented plotting functions operate on dataframes and arrays containing whole datasets and internally perform the necessary semantic mapping and statistical aggregation to produce informative plots."
   ]
  },
  {
   "cell_type": "markdown",
   "metadata": {},
   "source": [
    "Visualization is always a better method to get insights from the data we are using because we get a better picture. There are lot of visuzliation figures that we can create with its help but we will be focussing on paiplot and correlation matrix. You can read about rest of them at: https://seaborn.pydata.org/introduction.html"
   ]
  },
  {
   "cell_type": "markdown",
   "metadata": {},
   "source": [
    "The pairplot function creates a grid of Axes such that each variable in data will by shared in the y-axis across a single row and in the x-axis across a single column. It helps us to analyze trends in our data by pairing it with various independent variables centered around our dependent variable (which we will write in the hue section in our code). \n",
    "\n",
    "## Q7: What are dependent and independent varibles in our dataset? \n",
    "\n",
    "Independent Variables : State,Age,Sex,Number of siblings,\n",
    "\n",
    "Dependent variable : Income per month."
   ]
  },
  {
   "cell_type": "code",
   "execution_count": 4,
   "metadata": {},
   "outputs": [
    {
     "data": {
      "text/plain": "<seaborn.axisgrid.PairGrid at 0x22bfe262cf8>"
     },
     "execution_count": 4,
     "metadata": {},
     "output_type": "execute_result"
    }
   ],
   "source": [
    "import seaborn as sns\n",
    "sns.pairplot(df, hue=\"Number of siblings\")"
   ]
  },
  {
   "cell_type": "markdown",
   "metadata": {},
   "source": [
    "We can infer two things: \n",
    "1. As income per month increases, the number of siblings decreases \n",
    "2. People who are older have more silings than younger ones. "
   ]
  },
  {
   "cell_type": "markdown",
   "metadata": {},
   "source": [
    "### We will be getting similar insights in our week 2 module wherein we will analyze our breast cancer dataset. "
   ]
  },
  {
   "cell_type": "markdown",
   "metadata": {},
   "source": [
    "Now we will try to make a correlation matrix of our dataframe. It will give us a mathematical connotation about the correlation that variables have with each other. \n",
    "\n",
    "Objective of making a correlation matrix: \n",
    "\n",
    "1. To summarize a large amount of data where the goal is to see patterns. \n",
    "2. To input into other analyses. For example, people commonly use correlation matrixes as inputs for exploratory factor analysis, confirmatory factor analysis, structural equation models, and linear regression when excluding missing values pairwise.\n",
    "3. As a diagnostic when checking other analyses. "
   ]
  },
  {
   "cell_type": "code",
   "execution_count": 4,
   "metadata": {},
   "outputs": [
    {
     "data": {
      "text/html": "<div>\n<style scoped>\n    .dataframe tbody tr th:only-of-type {\n        vertical-align: middle;\n    }\n\n    .dataframe tbody tr th {\n        vertical-align: top;\n    }\n\n    .dataframe thead th {\n        text-align: right;\n    }\n</style>\n<table border=\"1\" class=\"dataframe\">\n  <thead>\n    <tr style=\"text-align: right;\">\n      <th></th>\n      <th>Income per month</th>\n      <th>Age</th>\n      <th>Number of siblings</th>\n    </tr>\n  </thead>\n  <tbody>\n    <tr>\n      <th>Income per month</th>\n      <td>1.000000</td>\n      <td>-0.572285</td>\n      <td>-0.773257</td>\n    </tr>\n    <tr>\n      <th>Age</th>\n      <td>-0.572285</td>\n      <td>1.000000</td>\n      <td>0.856892</td>\n    </tr>\n    <tr>\n      <th>Number of siblings</th>\n      <td>-0.773257</td>\n      <td>0.856892</td>\n      <td>1.000000</td>\n    </tr>\n  </tbody>\n</table>\n</div>",
      "text/plain": "                    Income per month       Age  Number of siblings\nIncome per month            1.000000 -0.572285           -0.773257\nAge                        -0.572285  1.000000            0.856892\nNumber of siblings         -0.773257  0.856892            1.000000"
     },
     "execution_count": 4,
     "metadata": {},
     "output_type": "execute_result"
    }
   ],
   "source": [
    "df.corr(method=\"pearson\")"
   ]
  },
  {
   "cell_type": "markdown",
   "metadata": {},
   "source": [
    "Whatever we had inferred from the visualiztion done above, we can see it in numbers in this correlation matrix. We can also make a heatmap and see this matrix in a visaulized form:"
   ]
  },
  {
   "cell_type": "code",
   "execution_count": 8,
   "metadata": {},
   "outputs": [
    {
     "data": {
      "text/plain": "<matplotlib.axes._subplots.AxesSubplot at 0x24cbb55de10>"
     },
     "execution_count": 8,
     "metadata": {},
     "output_type": "execute_result"
    },
    {
     "data": {
      "image/png": "[encoded data removed]",
      "image/svg+xml": "<?xml version=\"1.0\" encoding=\"utf-8\" standalone=\"no\"?>\r\n<!DOCTYPE svg PUBLIC \"-//W3C//DTD SVG 1.1//EN\"\r\n  \"http://www.w3.org/Graphics/SVG/1.1/DTD/svg11.dtd\">\r\n<!-- Created with matplotlib (http://matplotlib.org/) -->\r\n<svg height=\"252pt\" version=\"1.1\" viewBox=\"0 0 442 252\" width=\"442pt\" xmlns=\"http://www.w3.org/2000/svg\" xmlns:xlink=\"http://www.w3.org/1999/xlink\">\r\n <defs>\r\n  <style type=\"text/css\">\r\n*{stroke-linecap:butt;stroke-linejoin:round;}\r\n  </style>\r\n </defs>\r\n <g id=\"figure_1\">\r\n  <g id=\"patch_1\">\r\n   <path d=\"M 0 252.018125 \r\nL 442.0895 252.018125 \r\nL 442.0895 0 \r\nL 0 0 \r\nz\r\n\" style=\"fill:none;\"/>\r\n  </g>\r\n  <g id=\"axes_1\">\r\n   <g id=\"patch_2\">\r\n    <path d=\"M 108.154687 228.14 \r\nL 375.994688 228.14 \r\nL 375.994688 10.7 \r\nL 108.154687 10.7 \r\nz\r\n\" style=\"fill:#ffffff;\"/>\r\n   </g>\r\n   <g id=\"QuadMesh_1\">\r\n    <path clip-path=\"url(#pecd2e33caf)\" d=\"M 108.154687 10.7 \r\nL 197.434687 10.7 \r\nL 197.434687 83.18 \r\nL 108.154687 83.18 \r\nL 108.154687 10.7 \r\n\" style=\"fill:#faebdd;\"/>\r\n    <path clip-path=\"url(#pecd2e33caf)\" d=\"M 197.434687 10.7 \r\nL 286.714687 10.7 \r\nL 286.714687 83.18 \r\nL 197.434687 83.18 \r\nL 197.434687 10.7 \r\n\" style=\"fill:#2b1637;\"/>\r\n    <path clip-path=\"url(#pecd2e33caf)\" d=\"M 286.714687 10.7 \r\nL 375.994688 10.7 \r\nL 375.994688 83.18 \r\nL 286.714687 83.18 \r\nL 286.714687 10.7 \r\n\" style=\"fill:#03051a;\"/>\r\n    <path clip-path=\"url(#pecd2e33caf)\" d=\"M 108.154687 83.18 \r\nL 197.434687 83.18 \r\nL 197.434687 155.66 \r\nL 108.154687 155.66 \r\nL 108.154687 83.18 \r\n\" style=\"fill:#2b1637;\"/>\r\n    <path clip-path=\"url(#pecd2e33caf)\" d=\"M 197.434687 83.18 \r\nL 286.714687 83.18 \r\nL 286.714687 155.66 \r\nL 197.434687 155.66 \r\nL 197.434687 83.18 \r\n\" style=\"fill:#faebdd;\"/>\r\n    <path clip-path=\"url(#pecd2e33caf)\" d=\"M 286.714687 83.18 \r\nL 375.994688 83.18 \r\nL 375.994688 155.66 \r\nL 286.714687 155.66 \r\nL 286.714687 83.18 \r\n\" style=\"fill:#f7cdb1;\"/>\r\n    <path clip-path=\"url(#pecd2e33caf)\" d=\"M 108.154687 155.66 \r\nL 197.434687 155.66 \r\nL 197.434687 228.14 \r\nL 108.154687 228.14 \r\nL 108.154687 155.66 \r\n\" style=\"fill:#03051a;\"/>\r\n    <path clip-path=\"url(#pecd2e33caf)\" d=\"M 197.434687 155.66 \r\nL 286.714687 155.66 \r\nL 286.714687 228.14 \r\nL 197.434687 228.14 \r\nL 197.434687 155.66 \r\n\" style=\"fill:#f7cdb1;\"/>\r\n    <path clip-path=\"url(#pecd2e33caf)\" d=\"M 286.714687 155.66 \r\nL 375.994688 155.66 \r\nL 375.994688 228.14 \r\nL 286.714687 228.14 \r\nL 286.714687 155.66 \r\n\" style=\"fill:#faebdd;\"/>\r\n   </g>\r\n   <g id=\"matplotlib.axis_1\">\r\n    <g id=\"xtick_1\">\r\n     <g id=\"line2d_1\">\r\n      <defs>\r\n       <path d=\"M 0 0 \r\nL 0 3.5 \r\n\" id=\"m63fd49ae1f\" style=\"stroke:#000000;stroke-width:0.8;\"/>\r\n      </defs>\r\n      <g>\r\n       <use style=\"stroke:#000000;stroke-width:0.8;\" x=\"152.794688\" xlink:href=\"#m63fd49ae1f\" y=\"228.14\"/>\r\n      </g>\r\n     </g>\r\n     <g id=\"text_1\">\r\n      <!-- Income per month -->\r\n      <defs>\r\n       <path d=\"M 9.8125 72.90625 \r\nL 19.671875 72.90625 \r\nL 19.671875 0 \r\nL 9.8125 0 \r\nz\r\n\" id=\"DejaVuSans-49\"/>\r\n       <path d=\"M 54.890625 33.015625 \r\nL 54.890625 0 \r\nL 45.90625 0 \r\nL 45.90625 32.71875 \r\nQ 45.90625 40.484375 42.875 44.328125 \r\nQ 39.84375 48.1875 33.796875 48.1875 \r\nQ 26.515625 48.1875 22.3125 43.546875 \r\nQ 18.109375 38.921875 18.109375 30.90625 \r\nL 18.109375 0 \r\nL 9.078125 0 \r\nL 9.078125 54.6875 \r\nL 18.109375 54.6875 \r\nL 18.109375 46.1875 \r\nQ 21.34375 51.125 25.703125 53.5625 \r\nQ 30.078125 56 35.796875 56 \r\nQ 45.21875 56 50.046875 50.171875 \r\nQ 54.890625 44.34375 54.890625 33.015625 \r\nz\r\n\" id=\"DejaVuSans-6e\"/>\r\n       <path d=\"M 48.78125 52.59375 \r\nL 48.78125 44.1875 \r\nQ 44.96875 46.296875 41.140625 47.34375 \r\nQ 37.3125 48.390625 33.40625 48.390625 \r\nQ 24.65625 48.390625 19.8125 42.84375 \r\nQ 14.984375 37.3125 14.984375 27.296875 \r\nQ 14.984375 17.28125 19.8125 11.734375 \r\nQ 24.65625 6.203125 33.40625 6.203125 \r\nQ 37.3125 6.203125 41.140625 7.25 \r\nQ 44.96875 8.296875 48.78125 10.40625 \r\nL 48.78125 2.09375 \r\nQ 45.015625 0.34375 40.984375 -0.53125 \r\nQ 36.96875 -1.421875 32.421875 -1.421875 \r\nQ 20.0625 -1.421875 12.78125 6.34375 \r\nQ 5.515625 14.109375 5.515625 27.296875 \r\nQ 5.515625 40.671875 12.859375 48.328125 \r\nQ 20.21875 56 33.015625 56 \r\nQ 37.15625 56 41.109375 55.140625 \r\nQ 45.0625 54.296875 48.78125 52.59375 \r\nz\r\n\" id=\"DejaVuSans-63\"/>\r\n       <path d=\"M 30.609375 48.390625 \r\nQ 23.390625 48.390625 19.1875 42.75 \r\nQ 14.984375 37.109375 14.984375 27.296875 \r\nQ 14.984375 17.484375 19.15625 11.84375 \r\nQ 23.34375 6.203125 30.609375 6.203125 \r\nQ 37.796875 6.203125 41.984375 11.859375 \r\nQ 46.1875 17.53125 46.1875 27.296875 \r\nQ 46.1875 37.015625 41.984375 42.703125 \r\nQ 37.796875 48.390625 30.609375 48.390625 \r\nz\r\nM 30.609375 56 \r\nQ 42.328125 56 49.015625 48.375 \r\nQ 55.71875 40.765625 55.71875 27.296875 \r\nQ 55.71875 13.875 49.015625 6.21875 \r\nQ 42.328125 -1.421875 30.609375 -1.421875 \r\nQ 18.84375 -1.421875 12.171875 6.21875 \r\nQ 5.515625 13.875 5.515625 27.296875 \r\nQ 5.515625 40.765625 12.171875 48.375 \r\nQ 18.84375 56 30.609375 56 \r\nz\r\n\" id=\"DejaVuSans-6f\"/>\r\n       <path d=\"M 52 44.1875 \r\nQ 55.375 50.25 60.0625 53.125 \r\nQ 64.75 56 71.09375 56 \r\nQ 79.640625 56 84.28125 50.015625 \r\nQ 88.921875 44.046875 88.921875 33.015625 \r\nL 88.921875 0 \r\nL 79.890625 0 \r\nL 79.890625 32.71875 \r\nQ 79.890625 40.578125 77.09375 44.375 \r\nQ 74.3125 48.1875 68.609375 48.1875 \r\nQ 61.625 48.1875 57.5625 43.546875 \r\nQ 53.515625 38.921875 53.515625 30.90625 \r\nL 53.515625 0 \r\nL 44.484375 0 \r\nL 44.484375 32.71875 \r\nQ 44.484375 40.625 41.703125 44.40625 \r\nQ 38.921875 48.1875 33.109375 48.1875 \r\nQ 26.21875 48.1875 22.15625 43.53125 \r\nQ 18.109375 38.875 18.109375 30.90625 \r\nL 18.109375 0 \r\nL 9.078125 0 \r\nL 9.078125 54.6875 \r\nL 18.109375 54.6875 \r\nL 18.109375 46.1875 \r\nQ 21.1875 51.21875 25.484375 53.609375 \r\nQ 29.78125 56 35.6875 56 \r\nQ 41.65625 56 45.828125 52.96875 \r\nQ 50 49.953125 52 44.1875 \r\nz\r\n\" id=\"DejaVuSans-6d\"/>\r\n       <path d=\"M 56.203125 29.59375 \r\nL 56.203125 25.203125 \r\nL 14.890625 25.203125 \r\nQ 15.484375 15.921875 20.484375 11.0625 \r\nQ 25.484375 6.203125 34.421875 6.203125 \r\nQ 39.59375 6.203125 44.453125 7.46875 \r\nQ 49.3125 8.734375 54.109375 11.28125 \r\nL 54.109375 2.78125 \r\nQ 49.265625 0.734375 44.1875 -0.34375 \r\nQ 39.109375 -1.421875 33.890625 -1.421875 \r\nQ 20.796875 -1.421875 13.15625 6.1875 \r\nQ 5.515625 13.8125 5.515625 26.8125 \r\nQ 5.515625 40.234375 12.765625 48.109375 \r\nQ 20.015625 56 32.328125 56 \r\nQ 43.359375 56 49.78125 48.890625 \r\nQ 56.203125 41.796875 56.203125 29.59375 \r\nz\r\nM 47.21875 32.234375 \r\nQ 47.125 39.59375 43.09375 43.984375 \r\nQ 39.0625 48.390625 32.421875 48.390625 \r\nQ 24.90625 48.390625 20.390625 44.140625 \r\nQ 15.875 39.890625 15.1875 32.171875 \r\nz\r\n\" id=\"DejaVuSans-65\"/>\r\n       <path id=\"DejaVuSans-20\"/>\r\n       <path d=\"M 18.109375 8.203125 \r\nL 18.109375 -20.796875 \r\nL 9.078125 -20.796875 \r\nL 9.078125 54.6875 \r\nL 18.109375 54.6875 \r\nL 18.109375 46.390625 \r\nQ 20.953125 51.265625 25.265625 53.625 \r\nQ 29.59375 56 35.59375 56 \r\nQ 45.5625 56 51.78125 48.09375 \r\nQ 58.015625 40.1875 58.015625 27.296875 \r\nQ 58.015625 14.40625 51.78125 6.484375 \r\nQ 45.5625 -1.421875 35.59375 -1.421875 \r\nQ 29.59375 -1.421875 25.265625 0.953125 \r\nQ 20.953125 3.328125 18.109375 8.203125 \r\nz\r\nM 48.6875 27.296875 \r\nQ 48.6875 37.203125 44.609375 42.84375 \r\nQ 40.53125 48.484375 33.40625 48.484375 \r\nQ 26.265625 48.484375 22.1875 42.84375 \r\nQ 18.109375 37.203125 18.109375 27.296875 \r\nQ 18.109375 17.390625 22.1875 11.75 \r\nQ 26.265625 6.109375 33.40625 6.109375 \r\nQ 40.53125 6.109375 44.609375 11.75 \r\nQ 48.6875 17.390625 48.6875 27.296875 \r\nz\r\n\" id=\"DejaVuSans-70\"/>\r\n       <path d=\"M 41.109375 46.296875 \r\nQ 39.59375 47.171875 37.8125 47.578125 \r\nQ 36.03125 48 33.890625 48 \r\nQ 26.265625 48 22.1875 43.046875 \r\nQ 18.109375 38.09375 18.109375 28.8125 \r\nL 18.109375 0 \r\nL 9.078125 0 \r\nL 9.078125 54.6875 \r\nL 18.109375 54.6875 \r\nL 18.109375 46.1875 \r\nQ 20.953125 51.171875 25.484375 53.578125 \r\nQ 30.03125 56 36.53125 56 \r\nQ 37.453125 56 38.578125 55.875 \r\nQ 39.703125 55.765625 41.0625 55.515625 \r\nz\r\n\" id=\"DejaVuSans-72\"/>\r\n       <path d=\"M 18.3125 70.21875 \r\nL 18.3125 54.6875 \r\nL 36.8125 54.6875 \r\nL 36.8125 47.703125 \r\nL 18.3125 47.703125 \r\nL 18.3125 18.015625 \r\nQ 18.3125 11.328125 20.140625 9.421875 \r\nQ 21.96875 7.515625 27.59375 7.515625 \r\nL 36.8125 7.515625 \r\nL 36.8125 0 \r\nL 27.59375 0 \r\nQ 17.1875 0 13.234375 3.875 \r\nQ 9.28125 7.765625 9.28125 18.015625 \r\nL 9.28125 47.703125 \r\nL 2.6875 47.703125 \r\nL 2.6875 54.6875 \r\nL 9.28125 54.6875 \r\nL 9.28125 70.21875 \r\nz\r\n\" id=\"DejaVuSans-74\"/>\r\n       <path d=\"M 54.890625 33.015625 \r\nL 54.890625 0 \r\nL 45.90625 0 \r\nL 45.90625 32.71875 \r\nQ 45.90625 40.484375 42.875 44.328125 \r\nQ 39.84375 48.1875 33.796875 48.1875 \r\nQ 26.515625 48.1875 22.3125 43.546875 \r\nQ 18.109375 38.921875 18.109375 30.90625 \r\nL 18.109375 0 \r\nL 9.078125 0 \r\nL 9.078125 75.984375 \r\nL 18.109375 75.984375 \r\nL 18.109375 46.1875 \r\nQ 21.34375 51.125 25.703125 53.5625 \r\nQ 30.078125 56 35.796875 56 \r\nQ 45.21875 56 50.046875 50.171875 \r\nQ 54.890625 44.34375 54.890625 33.015625 \r\nz\r\n\" id=\"DejaVuSans-68\"/>\r\n      </defs>\r\n      <g transform=\"translate(106.68375 242.738437)scale(0.1 -0.1)\">\r\n       <use xlink:href=\"#DejaVuSans-49\"/>\r\n       <use x=\"29.492188\" xlink:href=\"#DejaVuSans-6e\"/>\r\n       <use x=\"92.871094\" xlink:href=\"#DejaVuSans-63\"/>\r\n       <use x=\"147.851562\" xlink:href=\"#DejaVuSans-6f\"/>\r\n       <use x=\"209.033203\" xlink:href=\"#DejaVuSans-6d\"/>\r\n       <use x=\"306.445312\" xlink:href=\"#DejaVuSans-65\"/>\r\n       <use x=\"367.96875\" xlink:href=\"#DejaVuSans-20\"/>\r\n       <use x=\"399.755859\" xlink:href=\"#DejaVuSans-70\"/>\r\n       <use x=\"463.232422\" xlink:href=\"#DejaVuSans-65\"/>\r\n       <use x=\"524.755859\" xlink:href=\"#DejaVuSans-72\"/>\r\n       <use x=\"565.869141\" xlink:href=\"#DejaVuSans-20\"/>\r\n       <use x=\"597.65625\" xlink:href=\"#DejaVuSans-6d\"/>\r\n       <use x=\"695.068359\" xlink:href=\"#DejaVuSans-6f\"/>\r\n       <use x=\"756.25\" xlink:href=\"#DejaVuSans-6e\"/>\r\n       <use x=\"819.628906\" xlink:href=\"#DejaVuSans-74\"/>\r\n       <use x=\"858.837891\" xlink:href=\"#DejaVuSans-68\"/>\r\n      </g>\r\n     </g>\r\n    </g>\r\n    <g id=\"xtick_2\">\r\n     <g id=\"line2d_2\">\r\n      <g>\r\n       <use style=\"stroke:#000000;stroke-width:0.8;\" x=\"242.074688\" xlink:href=\"#m63fd49ae1f\" y=\"228.14\"/>\r\n      </g>\r\n     </g>\r\n     <g id=\"text_2\">\r\n      <!-- Age -->\r\n      <defs>\r\n       <path d=\"M 34.1875 63.1875 \r\nL 20.796875 26.90625 \r\nL 47.609375 26.90625 \r\nz\r\nM 28.609375 72.90625 \r\nL 39.796875 72.90625 \r\nL 67.578125 0 \r\nL 57.328125 0 \r\nL 50.6875 18.703125 \r\nL 17.828125 18.703125 \r\nL 11.1875 0 \r\nL 0.78125 0 \r\nz\r\n\" id=\"DejaVuSans-41\"/>\r\n       <path d=\"M 45.40625 27.984375 \r\nQ 45.40625 37.75 41.375 43.109375 \r\nQ 37.359375 48.484375 30.078125 48.484375 \r\nQ 22.859375 48.484375 18.828125 43.109375 \r\nQ 14.796875 37.75 14.796875 27.984375 \r\nQ 14.796875 18.265625 18.828125 12.890625 \r\nQ 22.859375 7.515625 30.078125 7.515625 \r\nQ 37.359375 7.515625 41.375 12.890625 \r\nQ 45.40625 18.265625 45.40625 27.984375 \r\nz\r\nM 54.390625 6.78125 \r\nQ 54.390625 -7.171875 48.1875 -13.984375 \r\nQ 42 -20.796875 29.203125 -20.796875 \r\nQ 24.46875 -20.796875 20.265625 -20.09375 \r\nQ 16.0625 -19.390625 12.109375 -17.921875 \r\nL 12.109375 -9.1875 \r\nQ 16.0625 -11.328125 19.921875 -12.34375 \r\nQ 23.78125 -13.375 27.78125 -13.375 \r\nQ 36.625 -13.375 41.015625 -8.765625 \r\nQ 45.40625 -4.15625 45.40625 5.171875 \r\nL 45.40625 9.625 \r\nQ 42.625 4.78125 38.28125 2.390625 \r\nQ 33.9375 0 27.875 0 \r\nQ 17.828125 0 11.671875 7.65625 \r\nQ 5.515625 15.328125 5.515625 27.984375 \r\nQ 5.515625 40.671875 11.671875 48.328125 \r\nQ 17.828125 56 27.875 56 \r\nQ 33.9375 56 38.28125 53.609375 \r\nQ 42.625 51.21875 45.40625 46.390625 \r\nL 45.40625 54.6875 \r\nL 54.390625 54.6875 \r\nz\r\n\" id=\"DejaVuSans-67\"/>\r\n      </defs>\r\n      <g transform=\"translate(232.403594 242.738437)scale(0.1 -0.1)\">\r\n       <use xlink:href=\"#DejaVuSans-41\"/>\r\n       <use x=\"68.408203\" xlink:href=\"#DejaVuSans-67\"/>\r\n       <use x=\"131.884766\" xlink:href=\"#DejaVuSans-65\"/>\r\n      </g>\r\n     </g>\r\n    </g>\r\n    <g id=\"xtick_3\">\r\n     <g id=\"line2d_3\">\r\n      <g>\r\n       <use style=\"stroke:#000000;stroke-width:0.8;\" x=\"331.354687\" xlink:href=\"#m63fd49ae1f\" y=\"228.14\"/>\r\n      </g>\r\n     </g>\r\n     <g id=\"text_3\">\r\n      <!-- Number of siblings -->\r\n      <defs>\r\n       <path d=\"M 9.8125 72.90625 \r\nL 23.09375 72.90625 \r\nL 55.421875 11.921875 \r\nL 55.421875 72.90625 \r\nL 64.984375 72.90625 \r\nL 64.984375 0 \r\nL 51.703125 0 \r\nL 19.390625 60.984375 \r\nL 19.390625 0 \r\nL 9.8125 0 \r\nz\r\n\" id=\"DejaVuSans-4e\"/>\r\n       <path d=\"M 8.5 21.578125 \r\nL 8.5 54.6875 \r\nL 17.484375 54.6875 \r\nL 17.484375 21.921875 \r\nQ 17.484375 14.15625 20.5 10.265625 \r\nQ 23.53125 6.390625 29.59375 6.390625 \r\nQ 36.859375 6.390625 41.078125 11.03125 \r\nQ 45.3125 15.671875 45.3125 23.6875 \r\nL 45.3125 54.6875 \r\nL 54.296875 54.6875 \r\nL 54.296875 0 \r\nL 45.3125 0 \r\nL 45.3125 8.40625 \r\nQ 42.046875 3.421875 37.71875 1 \r\nQ 33.40625 -1.421875 27.6875 -1.421875 \r\nQ 18.265625 -1.421875 13.375 4.4375 \r\nQ 8.5 10.296875 8.5 21.578125 \r\nz\r\nM 31.109375 56 \r\nz\r\n\" id=\"DejaVuSans-75\"/>\r\n       <path d=\"M 48.6875 27.296875 \r\nQ 48.6875 37.203125 44.609375 42.84375 \r\nQ 40.53125 48.484375 33.40625 48.484375 \r\nQ 26.265625 48.484375 22.1875 42.84375 \r\nQ 18.109375 37.203125 18.109375 27.296875 \r\nQ 18.109375 17.390625 22.1875 11.75 \r\nQ 26.265625 6.109375 33.40625 6.109375 \r\nQ 40.53125 6.109375 44.609375 11.75 \r\nQ 48.6875 17.390625 48.6875 27.296875 \r\nz\r\nM 18.109375 46.390625 \r\nQ 20.953125 51.265625 25.265625 53.625 \r\nQ 29.59375 56 35.59375 56 \r\nQ 45.5625 56 51.78125 48.09375 \r\nQ 58.015625 40.1875 58.015625 27.296875 \r\nQ 58.015625 14.40625 51.78125 6.484375 \r\nQ 45.5625 -1.421875 35.59375 -1.421875 \r\nQ 29.59375 -1.421875 25.265625 0.953125 \r\nQ 20.953125 3.328125 18.109375 8.203125 \r\nL 18.109375 0 \r\nL 9.078125 0 \r\nL 9.078125 75.984375 \r\nL 18.109375 75.984375 \r\nz\r\n\" id=\"DejaVuSans-62\"/>\r\n       <path d=\"M 37.109375 75.984375 \r\nL 37.109375 68.5 \r\nL 28.515625 68.5 \r\nQ 23.6875 68.5 21.796875 66.546875 \r\nQ 19.921875 64.59375 19.921875 59.515625 \r\nL 19.921875 54.6875 \r\nL 34.71875 54.6875 \r\nL 34.71875 47.703125 \r\nL 19.921875 47.703125 \r\nL 19.921875 0 \r\nL 10.890625 0 \r\nL 10.890625 47.703125 \r\nL 2.296875 47.703125 \r\nL 2.296875 54.6875 \r\nL 10.890625 54.6875 \r\nL 10.890625 58.5 \r\nQ 10.890625 67.625 15.140625 71.796875 \r\nQ 19.390625 75.984375 28.609375 75.984375 \r\nz\r\n\" id=\"DejaVuSans-66\"/>\r\n       <path d=\"M 44.28125 53.078125 \r\nL 44.28125 44.578125 \r\nQ 40.484375 46.53125 36.375 47.5 \r\nQ 32.28125 48.484375 27.875 48.484375 \r\nQ 21.1875 48.484375 17.84375 46.4375 \r\nQ 14.5 44.390625 14.5 40.28125 \r\nQ 14.5 37.15625 16.890625 35.375 \r\nQ 19.28125 33.59375 26.515625 31.984375 \r\nL 29.59375 31.296875 \r\nQ 39.15625 29.25 43.1875 25.515625 \r\nQ 47.21875 21.78125 47.21875 15.09375 \r\nQ 47.21875 7.46875 41.1875 3.015625 \r\nQ 35.15625 -1.421875 24.609375 -1.421875 \r\nQ 20.21875 -1.421875 15.453125 -0.5625 \r\nQ 10.6875 0.296875 5.421875 2 \r\nL 5.421875 11.28125 \r\nQ 10.40625 8.6875 15.234375 7.390625 \r\nQ 20.0625 6.109375 24.8125 6.109375 \r\nQ 31.15625 6.109375 34.5625 8.28125 \r\nQ 37.984375 10.453125 37.984375 14.40625 \r\nQ 37.984375 18.0625 35.515625 20.015625 \r\nQ 33.0625 21.96875 24.703125 23.78125 \r\nL 21.578125 24.515625 \r\nQ 13.234375 26.265625 9.515625 29.90625 \r\nQ 5.8125 33.546875 5.8125 39.890625 \r\nQ 5.8125 47.609375 11.28125 51.796875 \r\nQ 16.75 56 26.8125 56 \r\nQ 31.78125 56 36.171875 55.265625 \r\nQ 40.578125 54.546875 44.28125 53.078125 \r\nz\r\n\" id=\"DejaVuSans-73\"/>\r\n       <path d=\"M 9.421875 54.6875 \r\nL 18.40625 54.6875 \r\nL 18.40625 0 \r\nL 9.421875 0 \r\nz\r\nM 9.421875 75.984375 \r\nL 18.40625 75.984375 \r\nL 18.40625 64.59375 \r\nL 9.421875 64.59375 \r\nz\r\n\" id=\"DejaVuSans-69\"/>\r\n       <path d=\"M 9.421875 75.984375 \r\nL 18.40625 75.984375 \r\nL 18.40625 0 \r\nL 9.421875 0 \r\nz\r\n\" id=\"DejaVuSans-6c\"/>\r\n      </defs>\r\n      <g transform=\"translate(284.377344 242.738437)scale(0.1 -0.1)\">\r\n       <use xlink:href=\"#DejaVuSans-4e\"/>\r\n       <use x=\"74.804688\" xlink:href=\"#DejaVuSans-75\"/>\r\n       <use x=\"138.183594\" xlink:href=\"#DejaVuSans-6d\"/>\r\n       <use x=\"235.595703\" xlink:href=\"#DejaVuSans-62\"/>\r\n       <use x=\"299.072266\" xlink:href=\"#DejaVuSans-65\"/>\r\n       <use x=\"360.595703\" xlink:href=\"#DejaVuSans-72\"/>\r\n       <use x=\"401.708984\" xlink:href=\"#DejaVuSans-20\"/>\r\n       <use x=\"433.496094\" xlink:href=\"#DejaVuSans-6f\"/>\r\n       <use x=\"494.677734\" xlink:href=\"#DejaVuSans-66\"/>\r\n       <use x=\"529.882812\" xlink:href=\"#DejaVuSans-20\"/>\r\n       <use x=\"561.669922\" xlink:href=\"#DejaVuSans-73\"/>\r\n       <use x=\"613.769531\" xlink:href=\"#DejaVuSans-69\"/>\r\n       <use x=\"641.552734\" xlink:href=\"#DejaVuSans-62\"/>\r\n       <use x=\"705.029297\" xlink:href=\"#DejaVuSans-6c\"/>\r\n       <use x=\"732.8125\" xlink:href=\"#DejaVuSans-69\"/>\r\n       <use x=\"760.595703\" xlink:href=\"#DejaVuSans-6e\"/>\r\n       <use x=\"823.974609\" xlink:href=\"#DejaVuSans-67\"/>\r\n       <use x=\"887.451172\" xlink:href=\"#DejaVuSans-73\"/>\r\n      </g>\r\n     </g>\r\n    </g>\r\n   </g>\r\n   <g id=\"matplotlib.axis_2\">\r\n    <g id=\"ytick_1\">\r\n     <g id=\"line2d_4\">\r\n      <defs>\r\n       <path d=\"M 0 0 \r\nL -3.5 0 \r\n\" id=\"m8aa53d3a4b\" style=\"stroke:#000000;stroke-width:0.8;\"/>\r\n      </defs>\r\n      <g>\r\n       <use style=\"stroke:#000000;stroke-width:0.8;\" x=\"108.154687\" xlink:href=\"#m8aa53d3a4b\" y=\"46.94\"/>\r\n      </g>\r\n     </g>\r\n     <g id=\"text_4\">\r\n      <!-- Income per month -->\r\n      <g transform=\"translate(8.932812 50.739219)scale(0.1 -0.1)\">\r\n       <use xlink:href=\"#DejaVuSans-49\"/>\r\n       <use x=\"29.492188\" xlink:href=\"#DejaVuSans-6e\"/>\r\n       <use x=\"92.871094\" xlink:href=\"#DejaVuSans-63\"/>\r\n       <use x=\"147.851562\" xlink:href=\"#DejaVuSans-6f\"/>\r\n       <use x=\"209.033203\" xlink:href=\"#DejaVuSans-6d\"/>\r\n       <use x=\"306.445312\" xlink:href=\"#DejaVuSans-65\"/>\r\n       <use x=\"367.96875\" xlink:href=\"#DejaVuSans-20\"/>\r\n       <use x=\"399.755859\" xlink:href=\"#DejaVuSans-70\"/>\r\n       <use x=\"463.232422\" xlink:href=\"#DejaVuSans-65\"/>\r\n       <use x=\"524.755859\" xlink:href=\"#DejaVuSans-72\"/>\r\n       <use x=\"565.869141\" xlink:href=\"#DejaVuSans-20\"/>\r\n       <use x=\"597.65625\" xlink:href=\"#DejaVuSans-6d\"/>\r\n       <use x=\"695.068359\" xlink:href=\"#DejaVuSans-6f\"/>\r\n       <use x=\"756.25\" xlink:href=\"#DejaVuSans-6e\"/>\r\n       <use x=\"819.628906\" xlink:href=\"#DejaVuSans-74\"/>\r\n       <use x=\"858.837891\" xlink:href=\"#DejaVuSans-68\"/>\r\n      </g>\r\n     </g>\r\n    </g>\r\n    <g id=\"ytick_2\">\r\n     <g id=\"line2d_5\">\r\n      <g>\r\n       <use style=\"stroke:#000000;stroke-width:0.8;\" x=\"108.154687\" xlink:href=\"#m8aa53d3a4b\" y=\"119.42\"/>\r\n      </g>\r\n     </g>\r\n     <g id=\"text_5\">\r\n      <!-- Age -->\r\n      <g transform=\"translate(81.8125 123.219219)scale(0.1 -0.1)\">\r\n       <use xlink:href=\"#DejaVuSans-41\"/>\r\n       <use x=\"68.408203\" xlink:href=\"#DejaVuSans-67\"/>\r\n       <use x=\"131.884766\" xlink:href=\"#DejaVuSans-65\"/>\r\n      </g>\r\n     </g>\r\n    </g>\r\n    <g id=\"ytick_3\">\r\n     <g id=\"line2d_6\">\r\n      <g>\r\n       <use style=\"stroke:#000000;stroke-width:0.8;\" x=\"108.154687\" xlink:href=\"#m8aa53d3a4b\" y=\"191.9\"/>\r\n      </g>\r\n     </g>\r\n     <g id=\"text_6\">\r\n      <!-- Number of siblings -->\r\n      <g transform=\"translate(7.2 195.699219)scale(0.1 -0.1)\">\r\n       <use xlink:href=\"#DejaVuSans-4e\"/>\r\n       <use x=\"74.804688\" xlink:href=\"#DejaVuSans-75\"/>\r\n       <use x=\"138.183594\" xlink:href=\"#DejaVuSans-6d\"/>\r\n       <use x=\"235.595703\" xlink:href=\"#DejaVuSans-62\"/>\r\n       <use x=\"299.072266\" xlink:href=\"#DejaVuSans-65\"/>\r\n       <use x=\"360.595703\" xlink:href=\"#DejaVuSans-72\"/>\r\n       <use x=\"401.708984\" xlink:href=\"#DejaVuSans-20\"/>\r\n       <use x=\"433.496094\" xlink:href=\"#DejaVuSans-6f\"/>\r\n       <use x=\"494.677734\" xlink:href=\"#DejaVuSans-66\"/>\r\n       <use x=\"529.882812\" xlink:href=\"#DejaVuSans-20\"/>\r\n       <use x=\"561.669922\" xlink:href=\"#DejaVuSans-73\"/>\r\n       <use x=\"613.769531\" xlink:href=\"#DejaVuSans-69\"/>\r\n       <use x=\"641.552734\" xlink:href=\"#DejaVuSans-62\"/>\r\n       <use x=\"705.029297\" xlink:href=\"#DejaVuSans-6c\"/>\r\n       <use x=\"732.8125\" xlink:href=\"#DejaVuSans-69\"/>\r\n       <use x=\"760.595703\" xlink:href=\"#DejaVuSans-6e\"/>\r\n       <use x=\"823.974609\" xlink:href=\"#DejaVuSans-67\"/>\r\n       <use x=\"887.451172\" xlink:href=\"#DejaVuSans-73\"/>\r\n      </g>\r\n     </g>\r\n    </g>\r\n   </g>\r\n   <g id=\"text_7\">\r\n    <!-- 100% -->\r\n    <defs>\r\n     <path d=\"M 12.40625 8.296875 \r\nL 28.515625 8.296875 \r\nL 28.515625 63.921875 \r\nL 10.984375 60.40625 \r\nL 10.984375 69.390625 \r\nL 28.421875 72.90625 \r\nL 38.28125 72.90625 \r\nL 38.28125 8.296875 \r\nL 54.390625 8.296875 \r\nL 54.390625 0 \r\nL 12.40625 0 \r\nz\r\n\" id=\"DejaVuSans-31\"/>\r\n     <path d=\"M 31.78125 66.40625 \r\nQ 24.171875 66.40625 20.328125 58.90625 \r\nQ 16.5 51.421875 16.5 36.375 \r\nQ 16.5 21.390625 20.328125 13.890625 \r\nQ 24.171875 6.390625 31.78125 6.390625 \r\nQ 39.453125 6.390625 43.28125 13.890625 \r\nQ 47.125 21.390625 47.125 36.375 \r\nQ 47.125 51.421875 43.28125 58.90625 \r\nQ 39.453125 66.40625 31.78125 66.40625 \r\nz\r\nM 31.78125 74.21875 \r\nQ 44.046875 74.21875 50.515625 64.515625 \r\nQ 56.984375 54.828125 56.984375 36.375 \r\nQ 56.984375 17.96875 50.515625 8.265625 \r\nQ 44.046875 -1.421875 31.78125 -1.421875 \r\nQ 19.53125 -1.421875 13.0625 8.265625 \r\nQ 6.59375 17.96875 6.59375 36.375 \r\nQ 6.59375 54.828125 13.0625 64.515625 \r\nQ 19.53125 74.21875 31.78125 74.21875 \r\nz\r\n\" id=\"DejaVuSans-30\"/>\r\n     <path d=\"M 72.703125 32.078125 \r\nQ 68.453125 32.078125 66.03125 28.46875 \r\nQ 63.625 24.859375 63.625 18.40625 \r\nQ 63.625 12.0625 66.03125 8.421875 \r\nQ 68.453125 4.78125 72.703125 4.78125 \r\nQ 76.859375 4.78125 79.265625 8.421875 \r\nQ 81.6875 12.0625 81.6875 18.40625 \r\nQ 81.6875 24.8125 79.265625 28.4375 \r\nQ 76.859375 32.078125 72.703125 32.078125 \r\nz\r\nM 72.703125 38.28125 \r\nQ 80.421875 38.28125 84.953125 32.90625 \r\nQ 89.5 27.546875 89.5 18.40625 \r\nQ 89.5 9.28125 84.9375 3.921875 \r\nQ 80.375 -1.421875 72.703125 -1.421875 \r\nQ 64.890625 -1.421875 60.34375 3.921875 \r\nQ 55.8125 9.28125 55.8125 18.40625 \r\nQ 55.8125 27.59375 60.375 32.9375 \r\nQ 64.9375 38.28125 72.703125 38.28125 \r\nz\r\nM 22.3125 68.015625 \r\nQ 18.109375 68.015625 15.6875 64.375 \r\nQ 13.28125 60.75 13.28125 54.390625 \r\nQ 13.28125 47.953125 15.671875 44.328125 \r\nQ 18.0625 40.71875 22.3125 40.71875 \r\nQ 26.5625 40.71875 28.96875 44.328125 \r\nQ 31.390625 47.953125 31.390625 54.390625 \r\nQ 31.390625 60.6875 28.953125 64.34375 \r\nQ 26.515625 68.015625 22.3125 68.015625 \r\nz\r\nM 66.40625 74.21875 \r\nL 74.21875 74.21875 \r\nL 28.609375 -1.421875 \r\nL 20.796875 -1.421875 \r\nz\r\nM 22.3125 74.21875 \r\nQ 30.03125 74.21875 34.609375 68.875 \r\nQ 39.203125 63.53125 39.203125 54.390625 \r\nQ 39.203125 45.171875 34.640625 39.84375 \r\nQ 30.078125 34.515625 22.3125 34.515625 \r\nQ 14.546875 34.515625 10.03125 39.859375 \r\nQ 5.515625 45.21875 5.515625 54.390625 \r\nQ 5.515625 63.484375 10.046875 68.84375 \r\nQ 14.59375 74.21875 22.3125 74.21875 \r\nz\r\n\" id=\"DejaVuSans-25\"/>\r\n    </defs>\r\n    <g style=\"fill:#262626;\" transform=\"translate(138.500156 49.699375)scale(0.1 -0.1)\">\r\n     <use xlink:href=\"#DejaVuSans-31\"/>\r\n     <use x=\"63.623047\" xlink:href=\"#DejaVuSans-30\"/>\r\n     <use x=\"127.246094\" xlink:href=\"#DejaVuSans-30\"/>\r\n     <use x=\"190.869141\" xlink:href=\"#DejaVuSans-25\"/>\r\n    </g>\r\n   </g>\r\n   <g id=\"text_8\">\r\n    <!-- -57% -->\r\n    <defs>\r\n     <path d=\"M 4.890625 31.390625 \r\nL 31.203125 31.390625 \r\nL 31.203125 23.390625 \r\nL 4.890625 23.390625 \r\nz\r\n\" id=\"DejaVuSans-2d\"/>\r\n     <path d=\"M 10.796875 72.90625 \r\nL 49.515625 72.90625 \r\nL 49.515625 64.59375 \r\nL 19.828125 64.59375 \r\nL 19.828125 46.734375 \r\nQ 21.96875 47.46875 24.109375 47.828125 \r\nQ 26.265625 48.1875 28.421875 48.1875 \r\nQ 40.625 48.1875 47.75 41.5 \r\nQ 54.890625 34.8125 54.890625 23.390625 \r\nQ 54.890625 11.625 47.5625 5.09375 \r\nQ 40.234375 -1.421875 26.90625 -1.421875 \r\nQ 22.3125 -1.421875 17.546875 -0.640625 \r\nQ 12.796875 0.140625 7.71875 1.703125 \r\nL 7.71875 11.625 \r\nQ 12.109375 9.234375 16.796875 8.0625 \r\nQ 21.484375 6.890625 26.703125 6.890625 \r\nQ 35.15625 6.890625 40.078125 11.328125 \r\nQ 45.015625 15.765625 45.015625 23.390625 \r\nQ 45.015625 31 40.078125 35.4375 \r\nQ 35.15625 39.890625 26.703125 39.890625 \r\nQ 22.75 39.890625 18.8125 39.015625 \r\nQ 14.890625 38.140625 10.796875 36.28125 \r\nz\r\n\" id=\"DejaVuSans-35\"/>\r\n     <path d=\"M 8.203125 72.90625 \r\nL 55.078125 72.90625 \r\nL 55.078125 68.703125 \r\nL 28.609375 0 \r\nL 18.3125 0 \r\nL 43.21875 64.59375 \r\nL 8.203125 64.59375 \r\nz\r\n\" id=\"DejaVuSans-37\"/>\r\n    </defs>\r\n    <g style=\"fill:#ffffff;\" transform=\"translate(229.1575 49.699375)scale(0.1 -0.1)\">\r\n     <use xlink:href=\"#DejaVuSans-2d\"/>\r\n     <use x=\"36.083984\" xlink:href=\"#DejaVuSans-35\"/>\r\n     <use x=\"99.707031\" xlink:href=\"#DejaVuSans-37\"/>\r\n     <use x=\"163.330078\" xlink:href=\"#DejaVuSans-25\"/>\r\n    </g>\r\n   </g>\r\n   <g id=\"text_9\">\r\n    <!-- -77% -->\r\n    <g style=\"fill:#ffffff;\" transform=\"translate(318.4375 49.699375)scale(0.1 -0.1)\">\r\n     <use xlink:href=\"#DejaVuSans-2d\"/>\r\n     <use x=\"36.083984\" xlink:href=\"#DejaVuSans-37\"/>\r\n     <use x=\"99.707031\" xlink:href=\"#DejaVuSans-37\"/>\r\n     <use x=\"163.330078\" xlink:href=\"#DejaVuSans-25\"/>\r\n    </g>\r\n   </g>\r\n   <g id=\"text_10\">\r\n    <!-- -57% -->\r\n    <g style=\"fill:#ffffff;\" transform=\"translate(139.8775 122.179375)scale(0.1 -0.1)\">\r\n     <use xlink:href=\"#DejaVuSans-2d\"/>\r\n     <use x=\"36.083984\" xlink:href=\"#DejaVuSans-35\"/>\r\n     <use x=\"99.707031\" xlink:href=\"#DejaVuSans-37\"/>\r\n     <use x=\"163.330078\" xlink:href=\"#DejaVuSans-25\"/>\r\n    </g>\r\n   </g>\r\n   <g id=\"text_11\">\r\n    <!-- 100% -->\r\n    <g style=\"fill:#262626;\" transform=\"translate(227.780156 122.179375)scale(0.1 -0.1)\">\r\n     <use xlink:href=\"#DejaVuSans-31\"/>\r\n     <use x=\"63.623047\" xlink:href=\"#DejaVuSans-30\"/>\r\n     <use x=\"127.246094\" xlink:href=\"#DejaVuSans-30\"/>\r\n     <use x=\"190.869141\" xlink:href=\"#DejaVuSans-25\"/>\r\n    </g>\r\n   </g>\r\n   <g id=\"text_12\">\r\n    <!-- 86% -->\r\n    <defs>\r\n     <path d=\"M 31.78125 34.625 \r\nQ 24.75 34.625 20.71875 30.859375 \r\nQ 16.703125 27.09375 16.703125 20.515625 \r\nQ 16.703125 13.921875 20.71875 10.15625 \r\nQ 24.75 6.390625 31.78125 6.390625 \r\nQ 38.8125 6.390625 42.859375 10.171875 \r\nQ 46.921875 13.96875 46.921875 20.515625 \r\nQ 46.921875 27.09375 42.890625 30.859375 \r\nQ 38.875 34.625 31.78125 34.625 \r\nz\r\nM 21.921875 38.8125 \r\nQ 15.578125 40.375 12.03125 44.71875 \r\nQ 8.5 49.078125 8.5 55.328125 \r\nQ 8.5 64.0625 14.71875 69.140625 \r\nQ 20.953125 74.21875 31.78125 74.21875 \r\nQ 42.671875 74.21875 48.875 69.140625 \r\nQ 55.078125 64.0625 55.078125 55.328125 \r\nQ 55.078125 49.078125 51.53125 44.71875 \r\nQ 48 40.375 41.703125 38.8125 \r\nQ 48.828125 37.15625 52.796875 32.3125 \r\nQ 56.78125 27.484375 56.78125 20.515625 \r\nQ 56.78125 9.90625 50.3125 4.234375 \r\nQ 43.84375 -1.421875 31.78125 -1.421875 \r\nQ 19.734375 -1.421875 13.25 4.234375 \r\nQ 6.78125 9.90625 6.78125 20.515625 \r\nQ 6.78125 27.484375 10.78125 32.3125 \r\nQ 14.796875 37.15625 21.921875 38.8125 \r\nz\r\nM 18.3125 54.390625 \r\nQ 18.3125 48.734375 21.84375 45.5625 \r\nQ 25.390625 42.390625 31.78125 42.390625 \r\nQ 38.140625 42.390625 41.71875 45.5625 \r\nQ 45.3125 48.734375 45.3125 54.390625 \r\nQ 45.3125 60.0625 41.71875 63.234375 \r\nQ 38.140625 66.40625 31.78125 66.40625 \r\nQ 25.390625 66.40625 21.84375 63.234375 \r\nQ 18.3125 60.0625 18.3125 54.390625 \r\nz\r\n\" id=\"DejaVuSans-38\"/>\r\n     <path d=\"M 33.015625 40.375 \r\nQ 26.375 40.375 22.484375 35.828125 \r\nQ 18.609375 31.296875 18.609375 23.390625 \r\nQ 18.609375 15.53125 22.484375 10.953125 \r\nQ 26.375 6.390625 33.015625 6.390625 \r\nQ 39.65625 6.390625 43.53125 10.953125 \r\nQ 47.40625 15.53125 47.40625 23.390625 \r\nQ 47.40625 31.296875 43.53125 35.828125 \r\nQ 39.65625 40.375 33.015625 40.375 \r\nz\r\nM 52.59375 71.296875 \r\nL 52.59375 62.3125 \r\nQ 48.875 64.0625 45.09375 64.984375 \r\nQ 41.3125 65.921875 37.59375 65.921875 \r\nQ 27.828125 65.921875 22.671875 59.328125 \r\nQ 17.53125 52.734375 16.796875 39.40625 \r\nQ 19.671875 43.65625 24.015625 45.921875 \r\nQ 28.375 48.1875 33.59375 48.1875 \r\nQ 44.578125 48.1875 50.953125 41.515625 \r\nQ 57.328125 34.859375 57.328125 23.390625 \r\nQ 57.328125 12.15625 50.6875 5.359375 \r\nQ 44.046875 -1.421875 33.015625 -1.421875 \r\nQ 20.359375 -1.421875 13.671875 8.265625 \r\nQ 6.984375 17.96875 6.984375 36.375 \r\nQ 6.984375 53.65625 15.1875 63.9375 \r\nQ 23.390625 74.21875 37.203125 74.21875 \r\nQ 40.921875 74.21875 44.703125 73.484375 \r\nQ 48.484375 72.75 52.59375 71.296875 \r\nz\r\n\" id=\"DejaVuSans-36\"/>\r\n    </defs>\r\n    <g style=\"fill:#262626;\" transform=\"translate(320.241406 122.179375)scale(0.1 -0.1)\">\r\n     <use xlink:href=\"#DejaVuSans-38\"/>\r\n     <use x=\"63.623047\" xlink:href=\"#DejaVuSans-36\"/>\r\n     <use x=\"127.246094\" xlink:href=\"#DejaVuSans-25\"/>\r\n    </g>\r\n   </g>\r\n   <g id=\"text_13\">\r\n    <!-- -77% -->\r\n    <g style=\"fill:#ffffff;\" transform=\"translate(139.8775 194.659375)scale(0.1 -0.1)\">\r\n     <use xlink:href=\"#DejaVuSans-2d\"/>\r\n     <use x=\"36.083984\" xlink:href=\"#DejaVuSans-37\"/>\r\n     <use x=\"99.707031\" xlink:href=\"#DejaVuSans-37\"/>\r\n     <use x=\"163.330078\" xlink:href=\"#DejaVuSans-25\"/>\r\n    </g>\r\n   </g>\r\n   <g id=\"text_14\">\r\n    <!-- 86% -->\r\n    <g style=\"fill:#262626;\" transform=\"translate(230.961406 194.659375)scale(0.1 -0.1)\">\r\n     <use xlink:href=\"#DejaVuSans-38\"/>\r\n     <use x=\"63.623047\" xlink:href=\"#DejaVuSans-36\"/>\r\n     <use x=\"127.246094\" xlink:href=\"#DejaVuSans-25\"/>\r\n    </g>\r\n   </g>\r\n   <g id=\"text_15\">\r\n    <!-- 100% -->\r\n    <g style=\"fill:#262626;\" transform=\"translate(317.060156 194.659375)scale(0.1 -0.1)\">\r\n     <use xlink:href=\"#DejaVuSans-31\"/>\r\n     <use x=\"63.623047\" xlink:href=\"#DejaVuSans-30\"/>\r\n     <use x=\"127.246094\" xlink:href=\"#DejaVuSans-30\"/>\r\n     <use x=\"190.869141\" xlink:href=\"#DejaVuSans-25\"/>\r\n    </g>\r\n   </g>\r\n  </g>\r\n  <g id=\"axes_2\">\r\n   <g id=\"patch_3\">\r\n    <path clip-path=\"url(#pd6f0654d5d)\" d=\"M 392.734688 228.14 \r\nL 392.734688 227.290625 \r\nL 392.734688 11.549375 \r\nL 392.734688 10.7 \r\nL 403.606688 10.7 \r\nL 403.606688 11.549375 \r\nL 403.606688 227.290625 \r\nL 403.606688 228.14 \r\nz\r\n\" style=\"fill:#ffffff;stroke:#ffffff;stroke-linejoin:miter;stroke-width:0.01;\"/>\r\n   </g>\r\n   <image height=\"217\" id=\"image3134a0af3d\" transform=\"scale(1 -1)translate(0 -217)\" width=\"11\" x=\"393\" xlink:href=\"data:image/png;base64,\r\niVBORw0KGgoAAAANSUhEUgAAAAsAAADZCAYAAAD2WsoCAAAABHNCSVQICAgIfAhkiAAAAV9JREFUaIHVmtsNAzEIwHjdEt1/zl5XwB+WaL4RMoakuag5z+eN5ZrM3MbS4ADBXSVlLq3AIhgoM7LhYRzx3OnZODF1qECxKTcym+3WbGgYE2g29sucDa3dEGO/zJOfBI82SMyG125vW61D6fB76qANgCGq05iRjSPMCIPtbpKZFbj+PPhbGySY2PAw5gYGazdhHoRxxIaGMe8+tbgH6wYGspFhMcMCAUYzZhIMRIvqEpwF0yS4SDDCgJnXsTFdXymzWCA47BhzNbABmQEGUifaGG02ELOmrsBVhmGENxteMLj3kMceqo5lBjdzlhncCyYIhsfMMMDPJsxMnixQZhhM3us0G0GeDT0bSWxEt4SBmuJ5ztEKFNtNMqM9CD55VRukgx4GssHOOtRBSx3c3RqGVyDK3Gj4bzCzdqN51jZs3pg60QYp8MbwZz9SZnP4iWfSbvQviysFsnZrZ51V4A9keCojHT7iJgAAAABJRU5ErkJggg==\" y=\"-11\"/>\r\n   <g id=\"matplotlib.axis_3\"/>\r\n   <g id=\"matplotlib.axis_4\">\r\n    <g id=\"ytick_4\">\r\n     <g id=\"line2d_7\">\r\n      <defs>\r\n       <path d=\"M 0 0 \r\nL 3.5 0 \r\n\" id=\"m949c573df0\" style=\"stroke:#000000;stroke-width:0.8;\"/>\r\n      </defs>\r\n      <g>\r\n       <use style=\"stroke:#000000;stroke-width:0.8;\" x=\"403.606688\" xlink:href=\"#m949c573df0\" y=\"206.89491\"/>\r\n      </g>\r\n     </g>\r\n     <g id=\"text_16\">\r\n      <!-- −0.6 -->\r\n      <defs>\r\n       <path d=\"M 10.59375 35.5 \r\nL 73.1875 35.5 \r\nL 73.1875 27.203125 \r\nL 10.59375 27.203125 \r\nz\r\n\" id=\"DejaVuSans-2212\"/>\r\n       <path d=\"M 10.6875 12.40625 \r\nL 21 12.40625 \r\nL 21 0 \r\nL 10.6875 0 \r\nz\r\n\" id=\"DejaVuSans-2e\"/>\r\n      </defs>\r\n      <g transform=\"translate(410.606688 210.694129)scale(0.1 -0.1)\">\r\n       <use xlink:href=\"#DejaVuSans-2212\"/>\r\n       <use x=\"83.789062\" xlink:href=\"#DejaVuSans-30\"/>\r\n       <use x=\"147.412109\" xlink:href=\"#DejaVuSans-2e\"/>\r\n       <use x=\"179.199219\" xlink:href=\"#DejaVuSans-36\"/>\r\n      </g>\r\n     </g>\r\n    </g>\r\n    <g id=\"ytick_5\">\r\n     <g id=\"line2d_8\">\r\n      <g>\r\n       <use style=\"stroke:#000000;stroke-width:0.8;\" x=\"403.606688\" xlink:href=\"#m949c573df0\" y=\"170.108364\"/>\r\n      </g>\r\n     </g>\r\n     <g id=\"text_17\">\r\n      <!-- −0.3 -->\r\n      <defs>\r\n       <path d=\"M 40.578125 39.3125 \r\nQ 47.65625 37.796875 51.625 33 \r\nQ 55.609375 28.21875 55.609375 21.1875 \r\nQ 55.609375 10.40625 48.1875 4.484375 \r\nQ 40.765625 -1.421875 27.09375 -1.421875 \r\nQ 22.515625 -1.421875 17.65625 -0.515625 \r\nQ 12.796875 0.390625 7.625 2.203125 \r\nL 7.625 11.71875 \r\nQ 11.71875 9.328125 16.59375 8.109375 \r\nQ 21.484375 6.890625 26.8125 6.890625 \r\nQ 36.078125 6.890625 40.9375 10.546875 \r\nQ 45.796875 14.203125 45.796875 21.1875 \r\nQ 45.796875 27.640625 41.28125 31.265625 \r\nQ 36.765625 34.90625 28.71875 34.90625 \r\nL 20.21875 34.90625 \r\nL 20.21875 43.015625 \r\nL 29.109375 43.015625 \r\nQ 36.375 43.015625 40.234375 45.921875 \r\nQ 44.09375 48.828125 44.09375 54.296875 \r\nQ 44.09375 59.90625 40.109375 62.90625 \r\nQ 36.140625 65.921875 28.71875 65.921875 \r\nQ 24.65625 65.921875 20.015625 65.03125 \r\nQ 15.375 64.15625 9.8125 62.3125 \r\nL 9.8125 71.09375 \r\nQ 15.4375 72.65625 20.34375 73.4375 \r\nQ 25.25 74.21875 29.59375 74.21875 \r\nQ 40.828125 74.21875 47.359375 69.109375 \r\nQ 53.90625 64.015625 53.90625 55.328125 \r\nQ 53.90625 49.265625 50.4375 45.09375 \r\nQ 46.96875 40.921875 40.578125 39.3125 \r\nz\r\n\" id=\"DejaVuSans-33\"/>\r\n      </defs>\r\n      <g transform=\"translate(410.606688 173.907583)scale(0.1 -0.1)\">\r\n       <use xlink:href=\"#DejaVuSans-2212\"/>\r\n       <use x=\"83.789062\" xlink:href=\"#DejaVuSans-30\"/>\r\n       <use x=\"147.412109\" xlink:href=\"#DejaVuSans-2e\"/>\r\n       <use x=\"179.199219\" xlink:href=\"#DejaVuSans-33\"/>\r\n      </g>\r\n     </g>\r\n    </g>\r\n    <g id=\"ytick_6\">\r\n     <g id=\"line2d_9\">\r\n      <g>\r\n       <use style=\"stroke:#000000;stroke-width:0.8;\" x=\"403.606688\" xlink:href=\"#m949c573df0\" y=\"133.321819\"/>\r\n      </g>\r\n     </g>\r\n     <g id=\"text_18\">\r\n      <!-- 0.0 -->\r\n      <g transform=\"translate(410.606688 137.121037)scale(0.1 -0.1)\">\r\n       <use xlink:href=\"#DejaVuSans-30\"/>\r\n       <use x=\"63.623047\" xlink:href=\"#DejaVuSans-2e\"/>\r\n       <use x=\"95.410156\" xlink:href=\"#DejaVuSans-30\"/>\r\n      </g>\r\n     </g>\r\n    </g>\r\n    <g id=\"ytick_7\">\r\n     <g id=\"line2d_10\">\r\n      <g>\r\n       <use style=\"stroke:#000000;stroke-width:0.8;\" x=\"403.606688\" xlink:href=\"#m949c573df0\" y=\"96.535273\"/>\r\n      </g>\r\n     </g>\r\n     <g id=\"text_19\">\r\n      <!-- 0.3 -->\r\n      <g transform=\"translate(410.606688 100.334492)scale(0.1 -0.1)\">\r\n       <use xlink:href=\"#DejaVuSans-30\"/>\r\n       <use x=\"63.623047\" xlink:href=\"#DejaVuSans-2e\"/>\r\n       <use x=\"95.410156\" xlink:href=\"#DejaVuSans-33\"/>\r\n      </g>\r\n     </g>\r\n    </g>\r\n    <g id=\"ytick_8\">\r\n     <g id=\"line2d_11\">\r\n      <g>\r\n       <use style=\"stroke:#000000;stroke-width:0.8;\" x=\"403.606688\" xlink:href=\"#m949c573df0\" y=\"59.748727\"/>\r\n      </g>\r\n     </g>\r\n     <g id=\"text_20\">\r\n      <!-- 0.6 -->\r\n      <g transform=\"translate(410.606688 63.547946)scale(0.1 -0.1)\">\r\n       <use xlink:href=\"#DejaVuSans-30\"/>\r\n       <use x=\"63.623047\" xlink:href=\"#DejaVuSans-2e\"/>\r\n       <use x=\"95.410156\" xlink:href=\"#DejaVuSans-36\"/>\r\n      </g>\r\n     </g>\r\n    </g>\r\n    <g id=\"ytick_9\">\r\n     <g id=\"line2d_12\">\r\n      <g>\r\n       <use style=\"stroke:#000000;stroke-width:0.8;\" x=\"403.606688\" xlink:href=\"#m949c573df0\" y=\"22.962182\"/>\r\n      </g>\r\n     </g>\r\n     <g id=\"text_21\">\r\n      <!-- 0.9 -->\r\n      <defs>\r\n       <path d=\"M 10.984375 1.515625 \r\nL 10.984375 10.5 \r\nQ 14.703125 8.734375 18.5 7.8125 \r\nQ 22.3125 6.890625 25.984375 6.890625 \r\nQ 35.75 6.890625 40.890625 13.453125 \r\nQ 46.046875 20.015625 46.78125 33.40625 \r\nQ 43.953125 29.203125 39.59375 26.953125 \r\nQ 35.25 24.703125 29.984375 24.703125 \r\nQ 19.046875 24.703125 12.671875 31.3125 \r\nQ 6.296875 37.9375 6.296875 49.421875 \r\nQ 6.296875 60.640625 12.9375 67.421875 \r\nQ 19.578125 74.21875 30.609375 74.21875 \r\nQ 43.265625 74.21875 49.921875 64.515625 \r\nQ 56.59375 54.828125 56.59375 36.375 \r\nQ 56.59375 19.140625 48.40625 8.859375 \r\nQ 40.234375 -1.421875 26.421875 -1.421875 \r\nQ 22.703125 -1.421875 18.890625 -0.6875 \r\nQ 15.09375 0.046875 10.984375 1.515625 \r\nz\r\nM 30.609375 32.421875 \r\nQ 37.25 32.421875 41.125 36.953125 \r\nQ 45.015625 41.5 45.015625 49.421875 \r\nQ 45.015625 57.28125 41.125 61.84375 \r\nQ 37.25 66.40625 30.609375 66.40625 \r\nQ 23.96875 66.40625 20.09375 61.84375 \r\nQ 16.21875 57.28125 16.21875 49.421875 \r\nQ 16.21875 41.5 20.09375 36.953125 \r\nQ 23.96875 32.421875 30.609375 32.421875 \r\nz\r\n\" id=\"DejaVuSans-39\"/>\r\n      </defs>\r\n      <g transform=\"translate(410.606688 26.761401)scale(0.1 -0.1)\">\r\n       <use xlink:href=\"#DejaVuSans-30\"/>\r\n       <use x=\"63.623047\" xlink:href=\"#DejaVuSans-2e\"/>\r\n       <use x=\"95.410156\" xlink:href=\"#DejaVuSans-39\"/>\r\n      </g>\r\n     </g>\r\n    </g>\r\n   </g>\r\n   <g id=\"patch_4\">\r\n    <path d=\"M 392.734688 228.14 \r\nL 392.734688 227.290625 \r\nL 392.734688 11.549375 \r\nL 392.734688 10.7 \r\nL 403.606688 10.7 \r\nL 403.606688 11.549375 \r\nL 403.606688 227.290625 \r\nL 403.606688 228.14 \r\nz\r\n\" style=\"fill:none;\"/>\r\n   </g>\r\n  </g>\r\n </g>\r\n <defs>\r\n  <clipPath id=\"pecd2e33caf\">\r\n   <rect height=\"217.44\" width=\"267.84\" x=\"108.154687\" y=\"10.7\"/>\r\n  </clipPath>\r\n  <clipPath id=\"pd6f0654d5d\">\r\n   <rect height=\"217.44\" width=\"10.872\" x=\"392.734688\" y=\"10.7\"/>\r\n  </clipPath>\r\n </defs>\r\n</svg>\r\n",
      "text/plain": "<matplotlib.figure.Figure at 0x24cbab1c2b0>"
     },
     "metadata": {},
     "output_type": "display_data"
    }
   ],
   "source": [
    "sns.heatmap(df.corr(), annot=True,fmt=\"0.0%\")"
   ]
  },
  {
   "cell_type": "markdown",
   "metadata": {},
   "source": [
    "## Q8: Mention all your finding from the above given heatmap. \n",
    "\n",
    "1 When income is more then age is less and less chance of having siblings as per first row.\n",
    "2 We can say people with maximum age or prevous generation peoples are now having very less income but number of siblings were good.\n",
    "3 And when there is no income or very less income age is moderate but chances of having number of siblings is more."
   ]
  },
  {
   "cell_type": "markdown",
   "metadata": {},
   "source": [
    "That is all for week 1, see you next week! "
   ]
  }
 ],
 "metadata": {
  "kernelspec": {
   "display_name": "Python 3.6.4 64-bit ('ProgramData': virtualenv)",
   "language": "python",
   "name": "python36464bitprogramdatavirtualenv55d67da3dfad4b39830f016a2d49cf19"
  },
  "language_info": {
   "codemirror_mode": {
    "name": "ipython",
    "version": 3
   },
   "file_extension": ".py",
   "mimetype": "text/x-python",
   "name": "python",
   "nbconvert_exporter": "python",
   "pygments_lexer": "ipython3",
   "version": "3.6.4-final"
  }
 },
 "nbformat": 4,
 "nbformat_minor": 2
}